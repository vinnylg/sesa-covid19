{
 "cells": [
  {
   "cell_type": "code",
   "execution_count": 1,
   "metadata": {},
   "outputs": [],
   "source": [
    "import pandas as pd\n",
    "from epiweeks import Week\n",
    "from bulletin import __file__ as __root__\n",
    "from bulletin.data.casos_confirmados import CasosConfirmados"
   ]
  },
  {
   "cell_type": "code",
   "execution_count": 2,
   "metadata": {},
   "outputs": [
    {
     "name": "stdout",
     "output_type": "stream",
     "text": [
      "saved checksum: 56625b0d9cabc5be8bb69f8b506ab1db62f14609e617c4b9e132b2eced042432\n",
      "current checksum: 56625b0d9cabc5be8bb69f8b506ab1db62f14609e617c4b9e132b2eced042432\n",
      "Tudo certo, nenhuma alteração detectada\n",
      "Utilizando forcadamente com método update\n",
      "Atualizando o arquivo {'casos': 'C:\\\\Users\\\\est.joaosilva\\\\covid19datascience\\\\bulletin\\\\tmp\\\\casos.pkl', 'obitos': 'C:\\\\Users\\\\est.joaosilva\\\\covid19datascience\\\\bulletin\\\\tmp\\\\obitos.pkl'} com o C:\\Users\\est.joaosilva\\covid19datascience\\bulletin\\tmp\\Casos confirmados.xlsx...\n",
      "Casos excluidos: 0\n",
      "Obitos excluidos: 0\n",
      "{'casos': 'C:\\\\Users\\\\est.joaosilva\\\\covid19datascience\\\\bulletin\\\\tmp\\\\casos.pkl', 'obitos': 'C:\\\\Users\\\\est.joaosilva\\\\covid19datascience\\\\bulletin\\\\tmp\\\\obitos.pkl'} salvo e C:\\Users\\est.joaosilva\\covid19datascience\\bulletin\\tmp\\casos_confirmados_checksum atualizado\n",
      "{'casos': 'C:\\\\Users\\\\est.joaosilva\\\\covid19datascience\\\\bulletin\\\\tmp\\\\casos.pkl', 'obitos': 'C:\\\\Users\\\\est.joaosilva\\\\covid19datascience\\\\bulletin\\\\tmp\\\\obitos.pkl'} carregado\n"
     ]
    },
    {
     "data": {
      "text/plain": [
       "(929097, 21564)"
      ]
     },
     "execution_count": 2,
     "metadata": {},
     "output_type": "execute_result"
    }
   ],
   "source": [
    "casos_confirmados = CasosConfirmados(force=True, hard=True)\n",
    "casos_confirmados.shape()"
   ]
  },
  {
   "cell_type": "code",
   "execution_count": 191,
   "metadata": {},
   "outputs": [],
   "source": [
    "casos = casos_confirmados.get_casos()"
   ]
  },
  {
   "cell_type": "code",
   "execution_count": 192,
   "metadata": {},
   "outputs": [],
   "source": [
    "sivep = pd.read_excel('output/TABELA_testes_sivep.xlsx')\n",
    "notifica = pd.read_excel('output/TABELA_testes_notifica.xlsx')\n",
    "notifica = notifica.set_index('SE')\n",
    "sivep = sivep.set_index('SE')"
   ]
  },
  {
   "cell_type": "code",
   "execution_count": 193,
   "metadata": {},
   "outputs": [],
   "source": [
    "casos['dt_diag'] = casos['dt_diag'].apply(lambda x: pd.to_datetime(x, format='%d/%m/%Y'))\n",
    "casos['is'] = casos['is'].apply(lambda x: pd.to_datetime(x, format='%d/%m/%Y'))"
   ]
  },
  {
   "cell_type": "code",
   "execution_count": 194,
   "metadata": {},
   "outputs": [],
   "source": [
    "casos['se_diag'] = casos['dt_diag'].apply(lambda x: Week.fromdate(x))\n",
    "casos.loc[~casos['is'].isnull(), 'se_is'] = casos['is'].loc[~casos['is'].isnull()].apply(lambda x: Week.fromdate(x))"
   ]
  },
  {
   "cell_type": "code",
   "execution_count": 195,
   "metadata": {},
   "outputs": [],
   "source": [
    "tabela_diag = casos.groupby(['se_diag'])[['nome']].count()"
   ]
  },
  {
   "cell_type": "code",
   "execution_count": 196,
   "metadata": {},
   "outputs": [],
   "source": [
    "tabela_is = casos.groupby(['se_is'])[['nome']].count()\n",
    "for row in tabela_is.index.values:\n",
    "    if row.year < 2020:\n",
    "        tabela_is = tabela_is.drop(row)"
   ]
  },
  {
   "cell_type": "code",
   "execution_count": 197,
   "metadata": {},
   "outputs": [],
   "source": [
    "tabela = pd.DataFrame(sivep['Positividade (%)']).rename(columns={'Positividade (%)': 'Positividade SRAG'})\n",
    "notifica = pd.DataFrame(notifica['Positividade (%)']).rename(columns={'Positividade (%)': 'Positividade SG'})\n",
    "tabela = tabela.merge(how = 'left', on = tabela.index, right = notifica)\n",
    "tabela = tabela.rename(columns={'key_0': 'index'})"
   ]
  },
  {
   "cell_type": "code",
   "execution_count": 198,
   "metadata": {},
   "outputs": [],
   "source": [
    "tabela_diag = tabela_diag.rename(columns={'nome': 'Diagnóstico'})\n",
    "tabela_is = tabela_is.rename(columns={'nome':'Primeiros sintomas'})"
   ]
  },
  {
   "cell_type": "code",
   "execution_count": 199,
   "metadata": {},
   "outputs": [
    {
     "name": "stderr",
     "output_type": "stream",
     "text": [
      "C:\\Users\\est.joaosilva\\Anaconda3\\lib\\site-packages\\numpy\\core\\numeric.py:2378: FutureWarning: elementwise comparison failed; returning scalar instead, but in the future will perform elementwise comparison\n",
      "  return bool(asarray(a1 == a2).all())\n"
     ]
    }
   ],
   "source": [
    "index_list = pd.Series(dtype = 'int64')\n",
    "for line in tabela_diag.index.values:\n",
    "    index_list = index_list.append(pd.Series(line.cdcformat(), dtype = 'int64'))\n",
    "tabela_diag = tabela_diag.set_index(index_list)\n",
    "tabela_diag = tabela_diag.reset_index()\n",
    "tabela = tabela.merge(how='left', on='index', right = tabela_diag)"
   ]
  },
  {
   "cell_type": "code",
   "execution_count": 200,
   "metadata": {},
   "outputs": [],
   "source": [
    "index_list = pd.Series(dtype = 'int64')\n",
    "for line in tabela_is.index.values:\n",
    "    index_list = index_list.append(pd.Series(line.cdcformat(), dtype = 'int64'))\n",
    "tabela_is = tabela_is.set_index(index_list)\n",
    "tabela_is = tabela_is.reset_index()\n",
    "tabela = tabela.merge(how = 'left', on = 'index', right = tabela_is)"
   ]
  },
  {
   "cell_type": "code",
   "execution_count": 201,
   "metadata": {},
   "outputs": [],
   "source": [
    "notifica = notifica.reset_index().rename(columns={'Positividade SG':'TEMP'})\n",
    "tabela = tabela.merge(how = 'left', on = tabela.index, right = notifica)\n",
    "tabela = tabela[['Primeiros sintomas', 'Diagnóstico', 'Positividade SG', 'Positividade SRAG', 'SE']]\n",
    "tabela = tabela.set_index('SE')"
   ]
  },
  {
   "cell_type": "code",
   "execution_count": 243,
   "metadata": {},
   "outputs": [],
   "source": [
    "tabela = tabela.append(pd.DataFrame(tabela.sum(0)).transpose())"
   ]
  },
  {
   "cell_type": "code",
   "execution_count": 244,
   "metadata": {},
   "outputs": [],
   "source": [
    "tabela.to_excel('output/TABELA_casos_apresentacao.xlsx', index = False)"
   ]
  }
 ],
 "metadata": {
  "kernelspec": {
   "display_name": "Python 3",
   "language": "python",
   "name": "python3"
  },
  "language_info": {
   "codemirror_mode": {
    "name": "ipython",
    "version": 3
   },
   "file_extension": ".py",
   "mimetype": "text/x-python",
   "name": "python",
   "nbconvert_exporter": "python",
   "pygments_lexer": "ipython3",
   "version": "3.8.5"
  }
 },
 "nbformat": 4,
 "nbformat_minor": 4
}
