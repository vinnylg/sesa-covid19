{
 "cells": [
  {
   "cell_type": "code",
   "execution_count": 1,
   "metadata": {},
   "outputs": [],
   "source": [
    "import pandas as pd\n",
    "from epiweeks import Week\n",
    "from bulletin import __file__ as __root__\n",
    "from bulletin.data.casos_confirmados import CasosConfirmados"
   ]
  },
  {
   "cell_type": "code",
   "execution_count": 2,
   "metadata": {},
   "outputs": [
    {
     "name": "stdout",
     "output_type": "stream",
     "text": [
      "current checksum: 7419d767b71babed09cee3d9525ac6f7efcb2da62488789444f86563af4cc68f\n",
      "Parece que o arquivo C:\\Users\\est.joaosilva\\covid19datascience\\bulletin\\tmp\\Casos confirmados.xlsx sofreu alterações, considere usar o método update ou o passe force=True\n",
      "Utilizando o método update\n",
      "Atualizando o arquivo {'casos': 'C:\\\\Users\\\\est.joaosilva\\\\covid19datascience\\\\bulletin\\\\tmp\\\\casos.pkl', 'obitos': 'C:\\\\Users\\\\est.joaosilva\\\\covid19datascience\\\\bulletin\\\\tmp\\\\obitos.pkl'} com o C:\\Users\\est.joaosilva\\covid19datascience\\bulletin\\tmp\\Casos confirmados.xlsx...\n",
      "Casos excluidos: 0\n",
      "Obitos excluidos: 0\n",
      "{'casos': 'C:\\\\Users\\\\est.joaosilva\\\\covid19datascience\\\\bulletin\\\\tmp\\\\casos.pkl', 'obitos': 'C:\\\\Users\\\\est.joaosilva\\\\covid19datascience\\\\bulletin\\\\tmp\\\\obitos.pkl'} salvo e C:\\Users\\est.joaosilva\\covid19datascience\\bulletin\\tmp\\casos_confirmados_checksum atualizado\n",
      "{'casos': 'C:\\\\Users\\\\est.joaosilva\\\\covid19datascience\\\\bulletin\\\\tmp\\\\casos.pkl', 'obitos': 'C:\\\\Users\\\\est.joaosilva\\\\covid19datascience\\\\bulletin\\\\tmp\\\\obitos.pkl'} carregado\n"
     ]
    },
    {
     "data": {
      "text/plain": [
       "(955247, 22674)"
      ]
     },
     "execution_count": 2,
     "metadata": {},
     "output_type": "execute_result"
    }
   ],
   "source": [
    "casos_confirmados = CasosConfirmados(force=True, hard=True)\n",
    "casos_confirmados.shape()"
   ]
  },
  {
   "cell_type": "code",
   "execution_count": 3,
   "metadata": {},
   "outputs": [],
   "source": [
    "casos = casos_confirmados.get_casos()"
   ]
  },
  {
   "cell_type": "code",
   "execution_count": 4,
   "metadata": {},
   "outputs": [],
   "source": [
    "sivep = pd.read_excel('output/TABELA_testes_sivep.xlsx')\n",
    "notifica = pd.read_excel('output/TABELA_testes_notifica.xlsx')\n",
    "notifica = notifica.set_index('SE')\n",
    "sivep = sivep.set_index('SE')"
   ]
  },
  {
   "cell_type": "code",
   "execution_count": 5,
   "metadata": {},
   "outputs": [],
   "source": [
    "casos['dt_diag'] = casos['dt_diag'].apply(lambda x: pd.to_datetime(x, format='%d/%m/%Y'))\n",
    "casos['is'] = casos['is'].apply(lambda x: pd.to_datetime(x, format='%d/%m/%Y'))"
   ]
  },
  {
   "cell_type": "code",
   "execution_count": 6,
   "metadata": {},
   "outputs": [],
   "source": [
    "casos['se_diag'] = casos['dt_diag'].apply(lambda x: Week.fromdate(x))\n",
    "casos.loc[~casos['is'].isnull(), 'se_is'] = casos['is'].loc[~casos['is'].isnull()].apply(lambda x: Week.fromdate(x))"
   ]
  },
  {
   "cell_type": "code",
   "execution_count": 7,
   "metadata": {},
   "outputs": [],
   "source": [
    "tabela_diag = casos.groupby(['se_diag'])[['nome']].count()"
   ]
  },
  {
   "cell_type": "code",
   "execution_count": 8,
   "metadata": {},
   "outputs": [],
   "source": [
    "tabela_is = casos.groupby(['se_is'])[['nome']].count()\n",
    "for row in tabela_is.index.values:\n",
    "    if row.year < 2020:\n",
    "        tabela_is = tabela_is.drop(row)"
   ]
  },
  {
   "cell_type": "code",
   "execution_count": 9,
   "metadata": {},
   "outputs": [],
   "source": [
    "tabela = pd.DataFrame(sivep['Positividade (%)']).rename(columns={'Positividade (%)': 'Positividade SRAG'})\n",
    "notifica = pd.DataFrame(notifica['Positividade (%)']).rename(columns={'Positividade (%)': 'Positividade SG'})\n",
    "tabela = tabela.merge(how = 'left', on = tabela.index, right = notifica)\n",
    "tabela = tabela.rename(columns={'key_0': 'index'})"
   ]
  },
  {
   "cell_type": "code",
   "execution_count": 10,
   "metadata": {},
   "outputs": [],
   "source": [
    "tabela_diag = tabela_diag.rename(columns={'nome': 'Diagnóstico'})\n",
    "tabela_is = tabela_is.rename(columns={'nome':'Primeiros sintomas'})"
   ]
  },
  {
   "cell_type": "code",
   "execution_count": 11,
   "metadata": {},
   "outputs": [
    {
     "name": "stderr",
     "output_type": "stream",
     "text": [
      "C:\\Users\\est.joaosilva\\Anaconda3\\lib\\site-packages\\numpy\\core\\numeric.py:2378: FutureWarning: elementwise comparison failed; returning scalar instead, but in the future will perform elementwise comparison\n",
      "  return bool(asarray(a1 == a2).all())\n"
     ]
    }
   ],
   "source": [
    "index_list = pd.Series(dtype = 'int64')\n",
    "for line in tabela_diag.index.values:\n",
    "    index_list = index_list.append(pd.Series(line.cdcformat(), dtype = 'int64'))\n",
    "tabela_diag = tabela_diag.set_index(index_list)\n",
    "tabela_diag = tabela_diag.reset_index()\n",
    "tabela = tabela.merge(how='left', on='index', right = tabela_diag)"
   ]
  },
  {
   "cell_type": "code",
   "execution_count": 12,
   "metadata": {},
   "outputs": [],
   "source": [
    "index_list = pd.Series(dtype = 'int64')\n",
    "for line in tabela_is.index.values:\n",
    "    index_list = index_list.append(pd.Series(line.cdcformat(), dtype = 'int64'))\n",
    "tabela_is = tabela_is.set_index(index_list)\n",
    "tabela_is = tabela_is.reset_index()\n",
    "tabela = tabela.merge(how = 'left', on = 'index', right = tabela_is)"
   ]
  },
  {
   "cell_type": "code",
   "execution_count": 13,
   "metadata": {},
   "outputs": [],
   "source": [
    "notifica = notifica.reset_index().rename(columns={'Positividade SG':'TEMP'})\n",
    "tabela = tabela.merge(how = 'left', on = tabela.index, right = notifica)\n",
    "tabela = tabela[['Primeiros sintomas', 'Diagnóstico', 'Positividade SG', 'Positividade SRAG', 'SE']]\n",
    "tabela = tabela.set_index('SE')"
   ]
  },
  {
   "cell_type": "code",
   "execution_count": 14,
   "metadata": {},
   "outputs": [],
   "source": [
    "tabela = tabela.append(pd.DataFrame(tabela.sum(0)).transpose())"
   ]
  },
  {
   "cell_type": "code",
   "execution_count": 16,
   "metadata": {},
   "outputs": [
    {
     "data": {
      "text/html": [
       "<div>\n",
       "<style scoped>\n",
       "    .dataframe tbody tr th:only-of-type {\n",
       "        vertical-align: middle;\n",
       "    }\n",
       "\n",
       "    .dataframe tbody tr th {\n",
       "        vertical-align: top;\n",
       "    }\n",
       "\n",
       "    .dataframe thead th {\n",
       "        text-align: right;\n",
       "    }\n",
       "</style>\n",
       "<table border=\"1\" class=\"dataframe\">\n",
       "  <thead>\n",
       "    <tr style=\"text-align: right;\">\n",
       "      <th></th>\n",
       "      <th>Primeiros sintomas</th>\n",
       "      <th>Diagnóstico</th>\n",
       "      <th>Positividade SG</th>\n",
       "      <th>Positividade SRAG</th>\n",
       "    </tr>\n",
       "  </thead>\n",
       "  <tbody>\n",
       "    <tr>\n",
       "      <th>202001</th>\n",
       "      <td>239.0</td>\n",
       "      <td>NaN</td>\n",
       "      <td>0.666667</td>\n",
       "      <td>0.111111</td>\n",
       "    </tr>\n",
       "    <tr>\n",
       "      <th>202002</th>\n",
       "      <td>147.0</td>\n",
       "      <td>NaN</td>\n",
       "      <td>0.500000</td>\n",
       "      <td>0.033333</td>\n",
       "    </tr>\n",
       "    <tr>\n",
       "      <th>202003</th>\n",
       "      <td>75.0</td>\n",
       "      <td>NaN</td>\n",
       "      <td>0.750000</td>\n",
       "      <td>0.037037</td>\n",
       "    </tr>\n",
       "    <tr>\n",
       "      <th>202004</th>\n",
       "      <td>52.0</td>\n",
       "      <td>NaN</td>\n",
       "      <td>0.600000</td>\n",
       "      <td>NaN</td>\n",
       "    </tr>\n",
       "    <tr>\n",
       "      <th>202005</th>\n",
       "      <td>100.0</td>\n",
       "      <td>NaN</td>\n",
       "      <td>0.571429</td>\n",
       "      <td>NaN</td>\n",
       "    </tr>\n",
       "    <tr>\n",
       "      <th>...</th>\n",
       "      <td>...</td>\n",
       "      <td>...</td>\n",
       "      <td>...</td>\n",
       "      <td>...</td>\n",
       "    </tr>\n",
       "    <tr>\n",
       "      <th>202115</th>\n",
       "      <td>15269.0</td>\n",
       "      <td>20335.0</td>\n",
       "      <td>0.397965</td>\n",
       "      <td>0.605877</td>\n",
       "    </tr>\n",
       "    <tr>\n",
       "      <th>202116</th>\n",
       "      <td>13436.0</td>\n",
       "      <td>17680.0</td>\n",
       "      <td>0.409730</td>\n",
       "      <td>0.531623</td>\n",
       "    </tr>\n",
       "    <tr>\n",
       "      <th>202117</th>\n",
       "      <td>5143.0</td>\n",
       "      <td>18003.0</td>\n",
       "      <td>0.413986</td>\n",
       "      <td>0.401589</td>\n",
       "    </tr>\n",
       "    <tr>\n",
       "      <th>202118</th>\n",
       "      <td>6.0</td>\n",
       "      <td>823.0</td>\n",
       "      <td>0.385373</td>\n",
       "      <td>0.083333</td>\n",
       "    </tr>\n",
       "    <tr>\n",
       "      <th>0</th>\n",
       "      <td>782457.0</td>\n",
       "      <td>955247.0</td>\n",
       "      <td>30.202252</td>\n",
       "      <td>29.017848</td>\n",
       "    </tr>\n",
       "  </tbody>\n",
       "</table>\n",
       "<p>72 rows × 4 columns</p>\n",
       "</div>"
      ],
      "text/plain": [
       "        Primeiros sintomas  Diagnóstico  Positividade SG  Positividade SRAG\n",
       "202001               239.0          NaN         0.666667           0.111111\n",
       "202002               147.0          NaN         0.500000           0.033333\n",
       "202003                75.0          NaN         0.750000           0.037037\n",
       "202004                52.0          NaN         0.600000                NaN\n",
       "202005               100.0          NaN         0.571429                NaN\n",
       "...                    ...          ...              ...                ...\n",
       "202115             15269.0      20335.0         0.397965           0.605877\n",
       "202116             13436.0      17680.0         0.409730           0.531623\n",
       "202117              5143.0      18003.0         0.413986           0.401589\n",
       "202118                 6.0        823.0         0.385373           0.083333\n",
       "0                 782457.0     955247.0        30.202252          29.017848\n",
       "\n",
       "[72 rows x 4 columns]"
      ]
     },
     "execution_count": 16,
     "metadata": {},
     "output_type": "execute_result"
    }
   ],
   "source": [
    "tabela"
   ]
  },
  {
   "cell_type": "code",
   "execution_count": 15,
   "metadata": {},
   "outputs": [],
   "source": [
    "tabela.to_excel('output/TABELA_casos_apresentacao.xlsx', index = False)"
   ]
  }
 ],
 "metadata": {
  "kernelspec": {
   "display_name": "Python 3",
   "language": "python",
   "name": "python3"
  },
  "language_info": {
   "codemirror_mode": {
    "name": "ipython",
    "version": 3
   },
   "file_extension": ".py",
   "mimetype": "text/x-python",
   "name": "python",
   "nbconvert_exporter": "python",
   "pygments_lexer": "ipython3",
   "version": "3.8.5"
  }
 },
 "nbformat": 4,
 "nbformat_minor": 4
}
