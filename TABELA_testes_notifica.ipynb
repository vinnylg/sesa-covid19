{
 "cells": [
  {
   "cell_type": "code",
   "execution_count": 1,
   "metadata": {},
   "outputs": [],
   "source": [
    "import pandas as pd\n",
    "from epiweeks import Week\n",
    "from datetime import datetime, date\n",
    "from bulletin.data.notifica import Notifica\n",
    "from bulletin import __file__ as __root__\n",
    "from bulletin.metabase.request import download_metabase"
   ]
  },
  {
   "cell_type": "code",
   "execution_count": 2,
   "metadata": {},
   "outputs": [],
   "source": [
    "notifica = Notifica()"
   ]
  },
  {
   "cell_type": "code",
   "execution_count": 3,
   "metadata": {},
   "outputs": [
    {
     "name": "stdout",
     "output_type": "stream",
     "text": [
      "Requesting classificacao_final IS NULL AND nt.metodo <> '' AND nt.metodo <> '3' AND nt.metodo IS NOT NULL AND nt.excluir_ficha = '2' AND nt.uf_residencia = '41' AND nt.uf_unidade_notifica = '41' AND (nt.status_notificacao = '1' OR nt.status_notificacao = '2')\n",
      "Success code 200\n",
      "Saving in input\\queries_exames\\null.csv\n",
      "Download finish, time elapsed: 0:00:00.179318\n",
      "downloaded shape (16, 4)\n",
      "\n",
      "Requesting classificacao_final = 0 AND nt.metodo <> '' AND nt.metodo <> '3' AND nt.metodo IS NOT NULL AND nt.excluir_ficha = '2' AND nt.uf_residencia = '41' AND nt.uf_unidade_notifica = '41' AND (nt.status_notificacao = '1' OR nt.status_notificacao = '2')\n",
      "Success code 200\n",
      "Saving in input\\queries_exames\\0.csv\n",
      "Download finish, time elapsed: 0:00:00.054031\n",
      "downloaded shape (12, 4)\n",
      "\n",
      "Requesting classificacao_final = 1 AND nt.metodo <> '' AND nt.metodo <> '3' AND nt.metodo IS NOT NULL AND nt.excluir_ficha = '2' AND nt.uf_residencia = '41' AND nt.uf_unidade_notifica = '41' AND (nt.status_notificacao = '1' OR nt.status_notificacao = '2')\n",
      "Success code 200\n",
      "Saving in input\\queries_exames\\1.csv\n",
      "Download finish, time elapsed: 0:00:28.512781\n",
      "downloaded shape (363230, 4)\n",
      "\n",
      "Requesting classificacao_final = 2 AND nt.metodo <> '' AND nt.metodo <> '3' AND nt.metodo IS NOT NULL AND nt.excluir_ficha = '2' AND nt.uf_residencia = '41' AND nt.uf_unidade_notifica = '41' AND (nt.status_notificacao = '1' OR nt.status_notificacao = '2')\n",
      "Success code 200\n",
      "Saving in input\\queries_exames\\2.csv\n",
      "Download finish, time elapsed: 0:00:29.850200\n",
      "downloaded shape (880215, 4)\n",
      "\n",
      "Requesting classificacao_final = 3 AND nt.metodo <> '' AND nt.metodo <> '3' AND nt.metodo IS NOT NULL AND nt.excluir_ficha = '2' AND nt.uf_residencia = '41' AND nt.uf_unidade_notifica = '41' AND (nt.status_notificacao = '1' OR nt.status_notificacao = '2')\n",
      "Success code 200\n",
      "Saving in input\\queries_exames\\3.csv\n",
      "Download finish, time elapsed: 0:00:29.174214\n",
      "downloaded shape (749790, 4)\n",
      "\n",
      "Requesting classificacao_final = 5 AND nt.metodo <> '' AND nt.metodo <> '3' AND nt.metodo IS NOT NULL AND nt.excluir_ficha = '2' AND nt.uf_residencia = '41' AND nt.uf_unidade_notifica = '41' AND (nt.status_notificacao = '1' OR nt.status_notificacao = '2')\n",
      "Success code 200\n",
      "Saving in input\\queries_exames\\5.csv\n",
      "Download finish, time elapsed: 0:00:00.536201\n",
      "downloaded shape (3705, 4)\n",
      "\n"
     ]
    }
   ],
   "source": [
    "notifica.download_todas_notificacoes()"
   ]
  },
  {
   "cell_type": "code",
   "execution_count": 4,
   "metadata": {},
   "outputs": [],
   "source": [
    "notifica.read_todas_notificacoes()"
   ]
  },
  {
   "cell_type": "code",
   "execution_count": 5,
   "metadata": {},
   "outputs": [],
   "source": [
    "todos_exames = notifica.get_casos()"
   ]
  },
  {
   "cell_type": "code",
   "execution_count": 6,
   "metadata": {},
   "outputs": [],
   "source": [
    "todos_exames = todos_exames.loc[~todos_exames['ibge_unidade_notifica'].isnull()]\n",
    "todos_exames = todos_exames.loc[~todos_exames['data_notificacao'].isnull()]\n",
    "todos_exames['SE'] = todos_exames['data_notificacao'].apply(lambda x: Week.fromdate(x))"
   ]
  },
  {
   "cell_type": "code",
   "execution_count": 7,
   "metadata": {},
   "outputs": [],
   "source": [
    "tabela = todos_exames.groupby(['SE','classificacao_final'])[['metodo']].count().unstack()"
   ]
  },
  {
   "cell_type": "code",
   "execution_count": 8,
   "metadata": {},
   "outputs": [],
   "source": [
    "tabela = tabela.droplevel(0, axis=1)"
   ]
  },
  {
   "cell_type": "code",
   "execution_count": 9,
   "metadata": {},
   "outputs": [],
   "source": [
    "for row in tabela.index.values:\n",
    "    if row.year < 2020:\n",
    "        tabela = tabela.drop(row)"
   ]
  },
  {
   "cell_type": "code",
   "execution_count": 10,
   "metadata": {},
   "outputs": [],
   "source": [
    "# tabela['Semana Epidemiológica'] = [ x.week for x in tabela.index.values]\n",
    "# tabela = tabela.set_index('Semana Epidemiológica')"
   ]
  },
  {
   "cell_type": "code",
   "execution_count": 11,
   "metadata": {},
   "outputs": [],
   "source": [
    "tabela[5] = tabela[5].add(tabela[0])\n",
    "tabela = tabela.drop(0, axis=1)"
   ]
  },
  {
   "cell_type": "code",
   "execution_count": 12,
   "metadata": {},
   "outputs": [],
   "source": [
    "tabela = tabela[[2, 3, 1, 5]]\n",
    "tabela = tabela.rename(columns={2:'Casos confirmados', 3:'Casos descartados', 1:'Casos suspeitos', 5:'Não informados'})"
   ]
  },
  {
   "cell_type": "code",
   "execution_count": 13,
   "metadata": {},
   "outputs": [],
   "source": [
    "tabela['Total testes'] = tabela.sum(1)\n",
    "tabela['Positividade (%)'] = tabela['Casos confirmados'].div(tabela['Total testes'])"
   ]
  },
  {
   "cell_type": "code",
   "execution_count": 14,
   "metadata": {},
   "outputs": [],
   "source": [
    "tabela.to_excel('output/TABELA_testes_notifica.xlsx')"
   ]
  },
  {
   "cell_type": "code",
   "execution_count": 15,
   "metadata": {},
   "outputs": [
    {
     "data": {
      "text/html": [
       "<div>\n",
       "<style scoped>\n",
       "    .dataframe tbody tr th:only-of-type {\n",
       "        vertical-align: middle;\n",
       "    }\n",
       "\n",
       "    .dataframe tbody tr th {\n",
       "        vertical-align: top;\n",
       "    }\n",
       "\n",
       "    .dataframe thead th {\n",
       "        text-align: right;\n",
       "    }\n",
       "</style>\n",
       "<table border=\"1\" class=\"dataframe\">\n",
       "  <thead>\n",
       "    <tr style=\"text-align: right;\">\n",
       "      <th>classificacao_final</th>\n",
       "      <th>Casos confirmados</th>\n",
       "      <th>Casos descartados</th>\n",
       "      <th>Casos suspeitos</th>\n",
       "      <th>Não informados</th>\n",
       "      <th>Total testes</th>\n",
       "      <th>Positividade (%)</th>\n",
       "    </tr>\n",
       "    <tr>\n",
       "      <th>SE</th>\n",
       "      <th></th>\n",
       "      <th></th>\n",
       "      <th></th>\n",
       "      <th></th>\n",
       "      <th></th>\n",
       "      <th></th>\n",
       "    </tr>\n",
       "  </thead>\n",
       "  <tbody>\n",
       "    <tr>\n",
       "      <th>202001</th>\n",
       "      <td>4.0</td>\n",
       "      <td>2.0</td>\n",
       "      <td>NaN</td>\n",
       "      <td>NaN</td>\n",
       "      <td>6.0</td>\n",
       "      <td>0.666667</td>\n",
       "    </tr>\n",
       "    <tr>\n",
       "      <th>202002</th>\n",
       "      <td>2.0</td>\n",
       "      <td>1.0</td>\n",
       "      <td>1.0</td>\n",
       "      <td>NaN</td>\n",
       "      <td>4.0</td>\n",
       "      <td>0.500000</td>\n",
       "    </tr>\n",
       "    <tr>\n",
       "      <th>202003</th>\n",
       "      <td>3.0</td>\n",
       "      <td>1.0</td>\n",
       "      <td>NaN</td>\n",
       "      <td>NaN</td>\n",
       "      <td>4.0</td>\n",
       "      <td>0.750000</td>\n",
       "    </tr>\n",
       "    <tr>\n",
       "      <th>202004</th>\n",
       "      <td>3.0</td>\n",
       "      <td>2.0</td>\n",
       "      <td>NaN</td>\n",
       "      <td>NaN</td>\n",
       "      <td>5.0</td>\n",
       "      <td>0.600000</td>\n",
       "    </tr>\n",
       "    <tr>\n",
       "      <th>202005</th>\n",
       "      <td>4.0</td>\n",
       "      <td>3.0</td>\n",
       "      <td>NaN</td>\n",
       "      <td>NaN</td>\n",
       "      <td>7.0</td>\n",
       "      <td>0.571429</td>\n",
       "    </tr>\n",
       "    <tr>\n",
       "      <th>...</th>\n",
       "      <td>...</td>\n",
       "      <td>...</td>\n",
       "      <td>...</td>\n",
       "      <td>...</td>\n",
       "      <td>...</td>\n",
       "      <td>...</td>\n",
       "    </tr>\n",
       "    <tr>\n",
       "      <th>202114</th>\n",
       "      <td>19937.0</td>\n",
       "      <td>17042.0</td>\n",
       "      <td>13238.0</td>\n",
       "      <td>NaN</td>\n",
       "      <td>50217.0</td>\n",
       "      <td>0.397017</td>\n",
       "    </tr>\n",
       "    <tr>\n",
       "      <th>202115</th>\n",
       "      <td>20143.0</td>\n",
       "      <td>17926.0</td>\n",
       "      <td>12546.0</td>\n",
       "      <td>NaN</td>\n",
       "      <td>50615.0</td>\n",
       "      <td>0.397965</td>\n",
       "    </tr>\n",
       "    <tr>\n",
       "      <th>202116</th>\n",
       "      <td>17198.0</td>\n",
       "      <td>14490.0</td>\n",
       "      <td>10286.0</td>\n",
       "      <td>NaN</td>\n",
       "      <td>41974.0</td>\n",
       "      <td>0.409730</td>\n",
       "    </tr>\n",
       "    <tr>\n",
       "      <th>202117</th>\n",
       "      <td>17026.0</td>\n",
       "      <td>10988.0</td>\n",
       "      <td>13113.0</td>\n",
       "      <td>NaN</td>\n",
       "      <td>41127.0</td>\n",
       "      <td>0.413986</td>\n",
       "    </tr>\n",
       "    <tr>\n",
       "      <th>202118</th>\n",
       "      <td>548.0</td>\n",
       "      <td>134.0</td>\n",
       "      <td>740.0</td>\n",
       "      <td>NaN</td>\n",
       "      <td>1422.0</td>\n",
       "      <td>0.385373</td>\n",
       "    </tr>\n",
       "  </tbody>\n",
       "</table>\n",
       "<p>71 rows × 6 columns</p>\n",
       "</div>"
      ],
      "text/plain": [
       "classificacao_final  Casos confirmados  Casos descartados  Casos suspeitos  \\\n",
       "SE                                                                           \n",
       "202001                             4.0                2.0              NaN   \n",
       "202002                             2.0                1.0              1.0   \n",
       "202003                             3.0                1.0              NaN   \n",
       "202004                             3.0                2.0              NaN   \n",
       "202005                             4.0                3.0              NaN   \n",
       "...                                ...                ...              ...   \n",
       "202114                         19937.0            17042.0          13238.0   \n",
       "202115                         20143.0            17926.0          12546.0   \n",
       "202116                         17198.0            14490.0          10286.0   \n",
       "202117                         17026.0            10988.0          13113.0   \n",
       "202118                           548.0              134.0            740.0   \n",
       "\n",
       "classificacao_final  Não informados  Total testes  Positividade (%)  \n",
       "SE                                                                   \n",
       "202001                          NaN           6.0          0.666667  \n",
       "202002                          NaN           4.0          0.500000  \n",
       "202003                          NaN           4.0          0.750000  \n",
       "202004                          NaN           5.0          0.600000  \n",
       "202005                          NaN           7.0          0.571429  \n",
       "...                             ...           ...               ...  \n",
       "202114                          NaN       50217.0          0.397017  \n",
       "202115                          NaN       50615.0          0.397965  \n",
       "202116                          NaN       41974.0          0.409730  \n",
       "202117                          NaN       41127.0          0.413986  \n",
       "202118                          NaN        1422.0          0.385373  \n",
       "\n",
       "[71 rows x 6 columns]"
      ]
     },
     "execution_count": 15,
     "metadata": {},
     "output_type": "execute_result"
    }
   ],
   "source": [
    "tabela"
   ]
  }
 ],
 "metadata": {
  "kernelspec": {
   "display_name": "Python 3",
   "language": "python",
   "name": "python3"
  },
  "language_info": {
   "codemirror_mode": {
    "name": "ipython",
    "version": 3
   },
   "file_extension": ".py",
   "mimetype": "text/x-python",
   "name": "python",
   "nbconvert_exporter": "python",
   "pygments_lexer": "ipython3",
   "version": "3.8.5"
  }
 },
 "nbformat": 4,
 "nbformat_minor": 4
}
