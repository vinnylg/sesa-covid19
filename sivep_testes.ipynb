{
 "cells": [
  {
   "cell_type": "code",
   "execution_count": 1,
   "metadata": {},
   "outputs": [],
   "source": [
    "from time import sleep\n",
    "import numpy as np\n",
    "from os.path import dirname, join, isfile, isdir\n",
    "from os import makedirs\n",
    "from sys import exit\n",
    "import pandas as pd\n",
    "from Levenshtein import ratio\n",
    "from epiweeks import Week\n",
    "from datetime import datetime, timedelta\n",
    "\n",
    "from bulletin.commom import static, normalize\n",
    "from bulletin.data.sivep import sivep\n",
    "from bulletin.data.sim import sim\n",
    "\n",
    "pd.set_option('display.max_columns', None)"
   ]
  },
  {
   "cell_type": "code",
   "execution_count": 2,
   "metadata": {},
   "outputs": [],
   "source": [
    "sivep = sivep()\n",
    "sivep.read_all_database_files()"
   ]
  },
  {
   "cell_type": "code",
   "execution_count": 3,
   "metadata": {},
   "outputs": [],
   "source": [
    "sivep_df = sivep.get_df()"
   ]
  },
  {
   "cell_type": "code",
   "execution_count": 4,
   "metadata": {},
   "outputs": [],
   "source": [
    "sivep_df = sivep_df.loc[sivep_df['SG_UF'] == 'PR']\n",
    "sivep_df = sivep_df.loc[sivep_df['SG_UF_NOT'] == 'PR']\n",
    "sivep_df = sivep_df.loc[sivep_df['AMOSTRA'] == '1']\n",
    "sivep_df.loc[sivep_df['CLASSI_FIN'].isnull(), 'CLASSI_FIN'] = '0'"
   ]
  },
  {
   "cell_type": "code",
   "execution_count": 5,
   "metadata": {},
   "outputs": [],
   "source": [
    "sivep_df['DT_NOTIFIC'] = sivep_df['DT_NOTIFIC'].apply(lambda x: pd.to_datetime(x, format='%d/%m/%Y'))\n",
    "sivep_df['SE'] = sivep_df['DT_NOTIFIC'].apply(lambda x: Week.fromdate(x))"
   ]
  },
  {
   "cell_type": "code",
   "execution_count": 6,
   "metadata": {},
   "outputs": [],
   "source": [
    "tabela = sivep_df.groupby(['SE','CLASSI_FIN'])[['NU_NOTIFIC']].count().unstack()"
   ]
  },
  {
   "cell_type": "code",
   "execution_count": 7,
   "metadata": {},
   "outputs": [],
   "source": [
    "tabela = tabela.droplevel(0, axis=1)"
   ]
  },
  {
   "cell_type": "code",
   "execution_count": 8,
   "metadata": {},
   "outputs": [],
   "source": [
    "tabela['Semana Epidemiológica'] = [ x.week for x in tabela.index.values]\n",
    "tabela = tabela.set_index('Semana Epidemiológica')"
   ]
  },
  {
   "cell_type": "code",
   "execution_count": 9,
   "metadata": {},
   "outputs": [],
   "source": [
    "tabela['1'] = tabela['1'].add(tabela['2'])\n",
    "tabela['1'] = tabela['3']\n",
    "tabela = tabela[['5', '1', '4', '0']]"
   ]
  },
  {
   "cell_type": "code",
   "execution_count": 10,
   "metadata": {},
   "outputs": [],
   "source": [
    "tabela = tabela.rename(columns={'5':'Casos confirmados', '1':'Casos descartados', '4':'Casos suspeitos', '0':'Não informados'})"
   ]
  },
  {
   "cell_type": "code",
   "execution_count": 11,
   "metadata": {},
   "outputs": [],
   "source": [
    "tabela['Total testes'] = tabela.sum(1)\n",
    "tabela['Positividade (%)'] = tabela['Casos confirmados'].div(tabela['Total testes'])"
   ]
  },
  {
   "cell_type": "code",
   "execution_count": 12,
   "metadata": {},
   "outputs": [],
   "source": [
    "tabela.to_excel('output/exames_sivep.xlsx', index = False)"
   ]
  },
  {
   "cell_type": "code",
   "execution_count": 13,
   "metadata": {},
   "outputs": [
    {
     "data": {
      "text/html": [
       "<div>\n",
       "<style scoped>\n",
       "    .dataframe tbody tr th:only-of-type {\n",
       "        vertical-align: middle;\n",
       "    }\n",
       "\n",
       "    .dataframe tbody tr th {\n",
       "        vertical-align: top;\n",
       "    }\n",
       "\n",
       "    .dataframe thead th {\n",
       "        text-align: right;\n",
       "    }\n",
       "</style>\n",
       "<table border=\"1\" class=\"dataframe\">\n",
       "  <thead>\n",
       "    <tr style=\"text-align: right;\">\n",
       "      <th>CLASSI_FIN</th>\n",
       "      <th>Casos confirmados</th>\n",
       "      <th>Casos descartados</th>\n",
       "      <th>Casos suspeitos</th>\n",
       "      <th>Não informados</th>\n",
       "      <th>Total testes</th>\n",
       "      <th>Positividade (%)</th>\n",
       "    </tr>\n",
       "    <tr>\n",
       "      <th>Semana Epidemiológica</th>\n",
       "      <th></th>\n",
       "      <th></th>\n",
       "      <th></th>\n",
       "      <th></th>\n",
       "      <th></th>\n",
       "      <th></th>\n",
       "    </tr>\n",
       "  </thead>\n",
       "  <tbody>\n",
       "    <tr>\n",
       "      <th>1</th>\n",
       "      <td>1.0</td>\n",
       "      <td>NaN</td>\n",
       "      <td>8.0</td>\n",
       "      <td>NaN</td>\n",
       "      <td>9.0</td>\n",
       "      <td>0.111111</td>\n",
       "    </tr>\n",
       "    <tr>\n",
       "      <th>2</th>\n",
       "      <td>1.0</td>\n",
       "      <td>NaN</td>\n",
       "      <td>27.0</td>\n",
       "      <td>2.0</td>\n",
       "      <td>30.0</td>\n",
       "      <td>0.033333</td>\n",
       "    </tr>\n",
       "    <tr>\n",
       "      <th>3</th>\n",
       "      <td>1.0</td>\n",
       "      <td>NaN</td>\n",
       "      <td>26.0</td>\n",
       "      <td>NaN</td>\n",
       "      <td>27.0</td>\n",
       "      <td>0.037037</td>\n",
       "    </tr>\n",
       "    <tr>\n",
       "      <th>4</th>\n",
       "      <td>NaN</td>\n",
       "      <td>NaN</td>\n",
       "      <td>23.0</td>\n",
       "      <td>NaN</td>\n",
       "      <td>23.0</td>\n",
       "      <td>NaN</td>\n",
       "    </tr>\n",
       "    <tr>\n",
       "      <th>5</th>\n",
       "      <td>NaN</td>\n",
       "      <td>1.0</td>\n",
       "      <td>32.0</td>\n",
       "      <td>NaN</td>\n",
       "      <td>33.0</td>\n",
       "      <td>NaN</td>\n",
       "    </tr>\n",
       "    <tr>\n",
       "      <th>...</th>\n",
       "      <td>...</td>\n",
       "      <td>...</td>\n",
       "      <td>...</td>\n",
       "      <td>...</td>\n",
       "      <td>...</td>\n",
       "      <td>...</td>\n",
       "    </tr>\n",
       "    <tr>\n",
       "      <th>13</th>\n",
       "      <td>2306.0</td>\n",
       "      <td>3.0</td>\n",
       "      <td>319.0</td>\n",
       "      <td>830.0</td>\n",
       "      <td>3458.0</td>\n",
       "      <td>0.666859</td>\n",
       "    </tr>\n",
       "    <tr>\n",
       "      <th>14</th>\n",
       "      <td>1904.0</td>\n",
       "      <td>1.0</td>\n",
       "      <td>305.0</td>\n",
       "      <td>914.0</td>\n",
       "      <td>3124.0</td>\n",
       "      <td>0.609475</td>\n",
       "    </tr>\n",
       "    <tr>\n",
       "      <th>15</th>\n",
       "      <td>1560.0</td>\n",
       "      <td>NaN</td>\n",
       "      <td>230.0</td>\n",
       "      <td>1216.0</td>\n",
       "      <td>3006.0</td>\n",
       "      <td>0.518962</td>\n",
       "    </tr>\n",
       "    <tr>\n",
       "      <th>16</th>\n",
       "      <td>857.0</td>\n",
       "      <td>NaN</td>\n",
       "      <td>70.0</td>\n",
       "      <td>1310.0</td>\n",
       "      <td>2237.0</td>\n",
       "      <td>0.383102</td>\n",
       "    </tr>\n",
       "    <tr>\n",
       "      <th>17</th>\n",
       "      <td>24.0</td>\n",
       "      <td>NaN</td>\n",
       "      <td>4.0</td>\n",
       "      <td>41.0</td>\n",
       "      <td>69.0</td>\n",
       "      <td>0.347826</td>\n",
       "    </tr>\n",
       "  </tbody>\n",
       "</table>\n",
       "<p>70 rows × 6 columns</p>\n",
       "</div>"
      ],
      "text/plain": [
       "CLASSI_FIN             Casos confirmados  Casos descartados  Casos suspeitos  \\\n",
       "Semana Epidemiológica                                                          \n",
       "1                                    1.0                NaN              8.0   \n",
       "2                                    1.0                NaN             27.0   \n",
       "3                                    1.0                NaN             26.0   \n",
       "4                                    NaN                NaN             23.0   \n",
       "5                                    NaN                1.0             32.0   \n",
       "...                                  ...                ...              ...   \n",
       "13                                2306.0                3.0            319.0   \n",
       "14                                1904.0                1.0            305.0   \n",
       "15                                1560.0                NaN            230.0   \n",
       "16                                 857.0                NaN             70.0   \n",
       "17                                  24.0                NaN              4.0   \n",
       "\n",
       "CLASSI_FIN             Não informados  Total testes  Positividade (%)  \n",
       "Semana Epidemiológica                                                  \n",
       "1                                 NaN           9.0          0.111111  \n",
       "2                                 2.0          30.0          0.033333  \n",
       "3                                 NaN          27.0          0.037037  \n",
       "4                                 NaN          23.0               NaN  \n",
       "5                                 NaN          33.0               NaN  \n",
       "...                               ...           ...               ...  \n",
       "13                              830.0        3458.0          0.666859  \n",
       "14                              914.0        3124.0          0.609475  \n",
       "15                             1216.0        3006.0          0.518962  \n",
       "16                             1310.0        2237.0          0.383102  \n",
       "17                               41.0          69.0          0.347826  \n",
       "\n",
       "[70 rows x 6 columns]"
      ]
     },
     "execution_count": 13,
     "metadata": {},
     "output_type": "execute_result"
    }
   ],
   "source": [
    "tabela"
   ]
  }
 ],
 "metadata": {
  "kernelspec": {
   "display_name": "Python 3",
   "language": "python",
   "name": "python3"
  },
  "language_info": {
   "codemirror_mode": {
    "name": "ipython",
    "version": 3
   },
   "file_extension": ".py",
   "mimetype": "text/x-python",
   "name": "python",
   "nbconvert_exporter": "python",
   "pygments_lexer": "ipython3",
   "version": "3.8.5"
  }
 },
 "nbformat": 4,
 "nbformat_minor": 4
}
