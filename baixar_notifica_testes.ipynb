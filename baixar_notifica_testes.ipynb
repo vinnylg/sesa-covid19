{
 "cells": [
  {
   "cell_type": "code",
   "execution_count": 1,
   "metadata": {},
   "outputs": [],
   "source": [
    "import pandas as pd\n",
    "from epiweeks import Week\n",
    "from datetime import datetime, date\n",
    "from bulletin.data.notifica import Notifica\n",
    "from bulletin import __file__ as __root__\n",
    "from bulletin.metabase.request import download_metabase"
   ]
  },
  {
   "cell_type": "code",
   "execution_count": 2,
   "metadata": {},
   "outputs": [],
   "source": [
    "notifica = Notifica()"
   ]
  },
  {
   "cell_type": "code",
   "execution_count": 3,
   "metadata": {},
   "outputs": [],
   "source": [
    "notifica.download_todas_notificacoes()"
   ]
  },
  {
   "cell_type": "code",
   "execution_count": 4,
   "metadata": {},
   "outputs": [],
   "source": [
    "notifica.read_todas_notificacoes()"
   ]
  },
  {
   "cell_type": "code",
   "execution_count": 5,
   "metadata": {},
   "outputs": [],
   "source": [
    "todos_exames = notifica.get_casos()"
   ]
  },
  {
   "cell_type": "code",
   "execution_count": 6,
   "metadata": {},
   "outputs": [],
   "source": [
    "#todos_exames.loc[~todos_exames['data_notificacao'].isnull(), 'ano'] = todos_exames['data_notificacao'].loc[~todos_exames['data_notificacao'].isnull()].apply(lambda x: Week.fromdate(x).year)\n",
    "#todos_exames.loc[~todos_exames['data_notificacao'].isnull(), 'se'] = todos_exames['data_notificacao'].loc[~todos_exames['data_notificacao'].isnull()].apply(lambda x: Week.fromdate(x).week)\n",
    "todos_exames = todos_exames.loc[~todos_exames['ibge_unidade_notifica'].isnull()]\n",
    "todos_exames = todos_exames.loc[~todos_exames['data_notificacao'].isnull()]\n",
    "todos_exames['se'] = todos_exames['data_notificacao'].apply(lambda x: Week.fromdate(x))"
   ]
  },
  {
   "cell_type": "code",
   "execution_count": 7,
   "metadata": {},
   "outputs": [],
   "source": [
    "#todos_exames\n",
    "tabela = todos_exames.groupby(['se','classificacao_final'])[['metodo']].count().unstack()"
   ]
  },
  {
   "cell_type": "code",
   "execution_count": 8,
   "metadata": {},
   "outputs": [],
   "source": [
    "tabela = tabela.droplevel(0, axis=1)"
   ]
  },
  {
   "cell_type": "code",
   "execution_count": 9,
   "metadata": {},
   "outputs": [],
   "source": [
    "for row in tabela.index.values:\n",
    "    if row.year < 2020:\n",
    "        tabela = tabela.drop(row)"
   ]
  },
  {
   "cell_type": "code",
   "execution_count": 10,
   "metadata": {},
   "outputs": [],
   "source": [
    "tabela = tabela[[2, 3, 1, 5, 0]]"
   ]
  },
  {
   "cell_type": "code",
   "execution_count": 11,
   "metadata": {},
   "outputs": [],
   "source": [
    "tabela.loc[tabela[5].isnull(), 5] = 0\n",
    "tabela.loc[tabela[0].isnull(), 0] = 0\n",
    "tabela[5] = tabela[5].add(tabela[0])\n",
    "tabela = tabela.drop(0, axis=1)"
   ]
  },
  {
   "cell_type": "code",
   "execution_count": 12,
   "metadata": {},
   "outputs": [],
   "source": [
    "tabela.to_excel('output/exames_notifica.xlsx', index = False)"
   ]
  },
  {
   "cell_type": "code",
   "execution_count": 13,
   "metadata": {},
   "outputs": [
    {
     "data": {
      "text/html": [
       "<div>\n",
       "<style scoped>\n",
       "    .dataframe tbody tr th:only-of-type {\n",
       "        vertical-align: middle;\n",
       "    }\n",
       "\n",
       "    .dataframe tbody tr th {\n",
       "        vertical-align: top;\n",
       "    }\n",
       "\n",
       "    .dataframe thead th {\n",
       "        text-align: right;\n",
       "    }\n",
       "</style>\n",
       "<table border=\"1\" class=\"dataframe\">\n",
       "  <thead>\n",
       "    <tr style=\"text-align: right;\">\n",
       "      <th>classificacao_final</th>\n",
       "      <th>2.0</th>\n",
       "      <th>3.0</th>\n",
       "      <th>1.0</th>\n",
       "      <th>5.0</th>\n",
       "    </tr>\n",
       "    <tr>\n",
       "      <th>se</th>\n",
       "      <th></th>\n",
       "      <th></th>\n",
       "      <th></th>\n",
       "      <th></th>\n",
       "    </tr>\n",
       "  </thead>\n",
       "  <tbody>\n",
       "    <tr>\n",
       "      <th>202001</th>\n",
       "      <td>4.0</td>\n",
       "      <td>2.0</td>\n",
       "      <td>NaN</td>\n",
       "      <td>0.0</td>\n",
       "    </tr>\n",
       "    <tr>\n",
       "      <th>202002</th>\n",
       "      <td>2.0</td>\n",
       "      <td>1.0</td>\n",
       "      <td>1.0</td>\n",
       "      <td>0.0</td>\n",
       "    </tr>\n",
       "    <tr>\n",
       "      <th>202003</th>\n",
       "      <td>3.0</td>\n",
       "      <td>NaN</td>\n",
       "      <td>NaN</td>\n",
       "      <td>0.0</td>\n",
       "    </tr>\n",
       "    <tr>\n",
       "      <th>202004</th>\n",
       "      <td>3.0</td>\n",
       "      <td>2.0</td>\n",
       "      <td>NaN</td>\n",
       "      <td>0.0</td>\n",
       "    </tr>\n",
       "    <tr>\n",
       "      <th>202005</th>\n",
       "      <td>4.0</td>\n",
       "      <td>3.0</td>\n",
       "      <td>NaN</td>\n",
       "      <td>0.0</td>\n",
       "    </tr>\n",
       "    <tr>\n",
       "      <th>...</th>\n",
       "      <td>...</td>\n",
       "      <td>...</td>\n",
       "      <td>...</td>\n",
       "      <td>...</td>\n",
       "    </tr>\n",
       "    <tr>\n",
       "      <th>202111</th>\n",
       "      <td>32389.0</td>\n",
       "      <td>23861.0</td>\n",
       "      <td>15572.0</td>\n",
       "      <td>0.0</td>\n",
       "    </tr>\n",
       "    <tr>\n",
       "      <th>202112</th>\n",
       "      <td>27470.0</td>\n",
       "      <td>21129.0</td>\n",
       "      <td>16178.0</td>\n",
       "      <td>0.0</td>\n",
       "    </tr>\n",
       "    <tr>\n",
       "      <th>202113</th>\n",
       "      <td>17266.0</td>\n",
       "      <td>15129.0</td>\n",
       "      <td>13726.0</td>\n",
       "      <td>0.0</td>\n",
       "    </tr>\n",
       "    <tr>\n",
       "      <th>202114</th>\n",
       "      <td>14946.0</td>\n",
       "      <td>11405.0</td>\n",
       "      <td>13960.0</td>\n",
       "      <td>0.0</td>\n",
       "    </tr>\n",
       "    <tr>\n",
       "      <th>202115</th>\n",
       "      <td>323.0</td>\n",
       "      <td>87.0</td>\n",
       "      <td>533.0</td>\n",
       "      <td>0.0</td>\n",
       "    </tr>\n",
       "  </tbody>\n",
       "</table>\n",
       "<p>68 rows × 4 columns</p>\n",
       "</div>"
      ],
      "text/plain": [
       "classificacao_final      2.0      3.0      1.0  5.0\n",
       "se                                                 \n",
       "202001                   4.0      2.0      NaN  0.0\n",
       "202002                   2.0      1.0      1.0  0.0\n",
       "202003                   3.0      NaN      NaN  0.0\n",
       "202004                   3.0      2.0      NaN  0.0\n",
       "202005                   4.0      3.0      NaN  0.0\n",
       "...                      ...      ...      ...  ...\n",
       "202111               32389.0  23861.0  15572.0  0.0\n",
       "202112               27470.0  21129.0  16178.0  0.0\n",
       "202113               17266.0  15129.0  13726.0  0.0\n",
       "202114               14946.0  11405.0  13960.0  0.0\n",
       "202115                 323.0     87.0    533.0  0.0\n",
       "\n",
       "[68 rows x 4 columns]"
      ]
     },
     "execution_count": 13,
     "metadata": {},
     "output_type": "execute_result"
    }
   ],
   "source": [
    "tabela"
   ]
  }
 ],
 "metadata": {
  "kernelspec": {
   "display_name": "Python 3",
   "language": "python",
   "name": "python3"
  },
  "language_info": {
   "codemirror_mode": {
    "name": "ipython",
    "version": 3
   },
   "file_extension": ".py",
   "mimetype": "text/x-python",
   "name": "python",
   "nbconvert_exporter": "python",
   "pygments_lexer": "ipython3",
   "version": "3.8.5"
  }
 },
 "nbformat": 4,
 "nbformat_minor": 4
}
