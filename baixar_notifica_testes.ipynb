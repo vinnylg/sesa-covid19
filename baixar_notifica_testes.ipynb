{
 "cells": [
  {
   "cell_type": "code",
   "execution_count": 1,
   "metadata": {},
   "outputs": [],
   "source": [
    "import pandas as pd\n",
    "from epiweeks import Week\n",
    "from datetime import datetime, date\n",
    "from bulletin.data.notifica import Notifica\n",
    "from bulletin import __file__ as __root__\n",
    "from bulletin.metabase.request import download_metabase"
   ]
  },
  {
   "cell_type": "code",
   "execution_count": 2,
   "metadata": {},
   "outputs": [],
   "source": [
    "notifica = Notifica()"
   ]
  },
  {
   "cell_type": "code",
   "execution_count": 3,
   "metadata": {},
   "outputs": [
    {
     "name": "stdout",
     "output_type": "stream",
     "text": [
      "Requesting classificacao_final IS NULL AND nt.metodo <> '' AND nt.metodo <> '3' AND nt.metodo IS NOT NULL AND nt.excluir_ficha = '2' AND nt.uf_residencia = '41' AND nt.uf_unidade_notifica = '41' AND (nt.status_notificacao = '1' OR nt.status_notificacao = '2')\n",
      "Success code 200\n",
      "Saving in input\\queries_exames\\null.csv\n",
      "Download finish, time elapsed: 0:00:00.320623\n",
      "downloaded shape (17, 4)\n",
      "\n",
      "Requesting classificacao_final = 0 AND nt.metodo <> '' AND nt.metodo <> '3' AND nt.metodo IS NOT NULL AND nt.excluir_ficha = '2' AND nt.uf_residencia = '41' AND nt.uf_unidade_notifica = '41' AND (nt.status_notificacao = '1' OR nt.status_notificacao = '2')\n",
      "Success code 200\n",
      "Saving in input\\queries_exames\\0.csv\n",
      "Download finish, time elapsed: 0:00:00.070564\n",
      "downloaded shape (12, 4)\n",
      "\n",
      "Requesting classificacao_final = 1 AND nt.metodo <> '' AND nt.metodo <> '3' AND nt.metodo IS NOT NULL AND nt.excluir_ficha = '2' AND nt.uf_residencia = '41' AND nt.uf_unidade_notifica = '41' AND (nt.status_notificacao = '1' OR nt.status_notificacao = '2')\n",
      "Success code 200\n",
      "Saving in input\\queries_exames\\1.csv\n",
      "Download finish, time elapsed: 0:00:42.804384\n",
      "downloaded shape (354160, 4)\n",
      "\n",
      "Requesting classificacao_final = 2 AND nt.metodo <> '' AND nt.metodo <> '3' AND nt.metodo IS NOT NULL AND nt.excluir_ficha = '2' AND nt.uf_residencia = '41' AND nt.uf_unidade_notifica = '41' AND (nt.status_notificacao = '1' OR nt.status_notificacao = '2')\n",
      "Success code 200\n",
      "Saving in input\\queries_exames\\2.csv\n",
      "Download finish, time elapsed: 0:00:34.836719\n",
      "downloaded shape (855211, 4)\n",
      "\n",
      "Requesting classificacao_final = 3 AND nt.metodo <> '' AND nt.metodo <> '3' AND nt.metodo IS NOT NULL AND nt.excluir_ficha = '2' AND nt.uf_residencia = '41' AND nt.uf_unidade_notifica = '41' AND (nt.status_notificacao = '1' OR nt.status_notificacao = '2')\n",
      "Success code 200\n",
      "Saving in input\\queries_exames\\3.csv\n",
      "Download finish, time elapsed: 0:00:27.812252\n",
      "downloaded shape (736685, 4)\n",
      "\n",
      "Requesting classificacao_final = 5 AND nt.metodo <> '' AND nt.metodo <> '3' AND nt.metodo IS NOT NULL AND nt.excluir_ficha = '2' AND nt.uf_residencia = '41' AND nt.uf_unidade_notifica = '41' AND (nt.status_notificacao = '1' OR nt.status_notificacao = '2')\n",
      "Success code 200\n",
      "Saving in input\\queries_exames\\5.csv\n",
      "Download finish, time elapsed: 0:00:00.815011\n",
      "downloaded shape (3754, 4)\n",
      "\n"
     ]
    }
   ],
   "source": [
    "notifica.download_todas_notificacoes()"
   ]
  },
  {
   "cell_type": "code",
   "execution_count": 4,
   "metadata": {},
   "outputs": [],
   "source": [
    "notifica.read_todas_notificacoes()"
   ]
  },
  {
   "cell_type": "code",
   "execution_count": 5,
   "metadata": {},
   "outputs": [],
   "source": [
    "todos_exames = notifica.get_casos()"
   ]
  },
  {
   "cell_type": "code",
   "execution_count": 6,
   "metadata": {},
   "outputs": [],
   "source": [
    "#todos_exames.loc[~todos_exames['data_notificacao'].isnull(), 'ano'] = todos_exames['data_notificacao'].loc[~todos_exames['data_notificacao'].isnull()].apply(lambda x: Week.fromdate(x).year)\n",
    "#todos_exames.loc[~todos_exames['data_notificacao'].isnull(), 'se'] = todos_exames['data_notificacao'].loc[~todos_exames['data_notificacao'].isnull()].apply(lambda x: Week.fromdate(x).week)\n",
    "todos_exames = todos_exames.loc[~todos_exames['ibge_unidade_notifica'].isnull()]\n",
    "todos_exames = todos_exames.loc[~todos_exames['data_notificacao'].isnull()]\n",
    "todos_exames['se'] = todos_exames['data_notificacao'].apply(lambda x: Week.fromdate(x))"
   ]
  },
  {
   "cell_type": "code",
   "execution_count": 7,
   "metadata": {},
   "outputs": [],
   "source": [
    "#todos_exames\n",
    "tabela = todos_exames.groupby(['se','classificacao_final'])[['metodo']].count().unstack()"
   ]
  },
  {
   "cell_type": "code",
   "execution_count": 8,
   "metadata": {},
   "outputs": [],
   "source": [
    "tabela = tabela.droplevel(0, axis=1)"
   ]
  },
  {
   "cell_type": "code",
   "execution_count": 9,
   "metadata": {},
   "outputs": [],
   "source": [
    "for row in tabela.index.values:\n",
    "    if row.year < 2020:\n",
    "        tabela = tabela.drop(row)"
   ]
  },
  {
   "cell_type": "code",
   "execution_count": 10,
   "metadata": {},
   "outputs": [],
   "source": [
    "tabela['Semana Epidemiológica'] = [ x.week for x in tabela.index.values]\n",
    "tabela = tabela.set_index('Semana Epidemiológica')"
   ]
  },
  {
   "cell_type": "code",
   "execution_count": 11,
   "metadata": {},
   "outputs": [],
   "source": [
    "tabela[5] = tabela[5].add(tabela[0])\n",
    "tabela = tabela.drop(0, axis=1)"
   ]
  },
  {
   "cell_type": "code",
   "execution_count": 17,
   "metadata": {},
   "outputs": [],
   "source": [
    "tabela = tabela[[2, 3, 1, 5]]\n",
    "tabela = tabela.rename(columns={2:'Casos confirmados', 3:'Casos descartados', 1:'Casos suspeitos', 5:'Não informados'})"
   ]
  },
  {
   "cell_type": "code",
   "execution_count": 19,
   "metadata": {},
   "outputs": [],
   "source": [
    "tabela['Total testes'] = tabela.sum(1)\n",
    "tabela['Positividade (%)'] = tabela['Casos confirmados'].div(tabela['Total testes'])"
   ]
  },
  {
   "cell_type": "code",
   "execution_count": 20,
   "metadata": {},
   "outputs": [],
   "source": [
    "tabela.to_excel('output/exames_notifica.xlsx', index = False)"
   ]
  },
  {
   "cell_type": "code",
   "execution_count": 21,
   "metadata": {},
   "outputs": [
    {
     "data": {
      "text/html": [
       "<div>\n",
       "<style scoped>\n",
       "    .dataframe tbody tr th:only-of-type {\n",
       "        vertical-align: middle;\n",
       "    }\n",
       "\n",
       "    .dataframe tbody tr th {\n",
       "        vertical-align: top;\n",
       "    }\n",
       "\n",
       "    .dataframe thead th {\n",
       "        text-align: right;\n",
       "    }\n",
       "</style>\n",
       "<table border=\"1\" class=\"dataframe\">\n",
       "  <thead>\n",
       "    <tr style=\"text-align: right;\">\n",
       "      <th>classificacao_final</th>\n",
       "      <th>Casos confirmados</th>\n",
       "      <th>Casos descartados</th>\n",
       "      <th>Casos suspeitos</th>\n",
       "      <th>Não informados</th>\n",
       "      <th>Total testes</th>\n",
       "      <th>Positividade (%)</th>\n",
       "    </tr>\n",
       "    <tr>\n",
       "      <th>Semana Epidemiológica</th>\n",
       "      <th></th>\n",
       "      <th></th>\n",
       "      <th></th>\n",
       "      <th></th>\n",
       "      <th></th>\n",
       "      <th></th>\n",
       "    </tr>\n",
       "  </thead>\n",
       "  <tbody>\n",
       "    <tr>\n",
       "      <th>1</th>\n",
       "      <td>4.0</td>\n",
       "      <td>2.0</td>\n",
       "      <td>NaN</td>\n",
       "      <td>NaN</td>\n",
       "      <td>6.0</td>\n",
       "      <td>0.666667</td>\n",
       "    </tr>\n",
       "    <tr>\n",
       "      <th>2</th>\n",
       "      <td>2.0</td>\n",
       "      <td>1.0</td>\n",
       "      <td>1.0</td>\n",
       "      <td>NaN</td>\n",
       "      <td>4.0</td>\n",
       "      <td>0.500000</td>\n",
       "    </tr>\n",
       "    <tr>\n",
       "      <th>3</th>\n",
       "      <td>3.0</td>\n",
       "      <td>1.0</td>\n",
       "      <td>NaN</td>\n",
       "      <td>NaN</td>\n",
       "      <td>4.0</td>\n",
       "      <td>0.750000</td>\n",
       "    </tr>\n",
       "    <tr>\n",
       "      <th>4</th>\n",
       "      <td>3.0</td>\n",
       "      <td>2.0</td>\n",
       "      <td>NaN</td>\n",
       "      <td>NaN</td>\n",
       "      <td>5.0</td>\n",
       "      <td>0.600000</td>\n",
       "    </tr>\n",
       "    <tr>\n",
       "      <th>5</th>\n",
       "      <td>4.0</td>\n",
       "      <td>3.0</td>\n",
       "      <td>NaN</td>\n",
       "      <td>NaN</td>\n",
       "      <td>7.0</td>\n",
       "      <td>0.571429</td>\n",
       "    </tr>\n",
       "    <tr>\n",
       "      <th>...</th>\n",
       "      <td>...</td>\n",
       "      <td>...</td>\n",
       "      <td>...</td>\n",
       "      <td>...</td>\n",
       "      <td>...</td>\n",
       "      <td>...</td>\n",
       "    </tr>\n",
       "    <tr>\n",
       "      <th>13</th>\n",
       "      <td>18370.0</td>\n",
       "      <td>15754.0</td>\n",
       "      <td>13365.0</td>\n",
       "      <td>NaN</td>\n",
       "      <td>47489.0</td>\n",
       "      <td>0.386826</td>\n",
       "    </tr>\n",
       "    <tr>\n",
       "      <th>14</th>\n",
       "      <td>19517.0</td>\n",
       "      <td>16834.0</td>\n",
       "      <td>13455.0</td>\n",
       "      <td>NaN</td>\n",
       "      <td>49806.0</td>\n",
       "      <td>0.391860</td>\n",
       "    </tr>\n",
       "    <tr>\n",
       "      <th>15</th>\n",
       "      <td>19403.0</td>\n",
       "      <td>18065.0</td>\n",
       "      <td>12773.0</td>\n",
       "      <td>NaN</td>\n",
       "      <td>50241.0</td>\n",
       "      <td>0.386199</td>\n",
       "    </tr>\n",
       "    <tr>\n",
       "      <th>16</th>\n",
       "      <td>13312.0</td>\n",
       "      <td>9219.0</td>\n",
       "      <td>10401.0</td>\n",
       "      <td>NaN</td>\n",
       "      <td>32932.0</td>\n",
       "      <td>0.404227</td>\n",
       "    </tr>\n",
       "    <tr>\n",
       "      <th>17</th>\n",
       "      <td>357.0</td>\n",
       "      <td>118.0</td>\n",
       "      <td>490.0</td>\n",
       "      <td>NaN</td>\n",
       "      <td>965.0</td>\n",
       "      <td>0.369948</td>\n",
       "    </tr>\n",
       "  </tbody>\n",
       "</table>\n",
       "<p>70 rows × 6 columns</p>\n",
       "</div>"
      ],
      "text/plain": [
       "classificacao_final    Casos confirmados  Casos descartados  Casos suspeitos  \\\n",
       "Semana Epidemiológica                                                          \n",
       "1                                    4.0                2.0              NaN   \n",
       "2                                    2.0                1.0              1.0   \n",
       "3                                    3.0                1.0              NaN   \n",
       "4                                    3.0                2.0              NaN   \n",
       "5                                    4.0                3.0              NaN   \n",
       "...                                  ...                ...              ...   \n",
       "13                               18370.0            15754.0          13365.0   \n",
       "14                               19517.0            16834.0          13455.0   \n",
       "15                               19403.0            18065.0          12773.0   \n",
       "16                               13312.0             9219.0          10401.0   \n",
       "17                                 357.0              118.0            490.0   \n",
       "\n",
       "classificacao_final    Não informados  Total testes  Positividade (%)  \n",
       "Semana Epidemiológica                                                  \n",
       "1                                 NaN           6.0          0.666667  \n",
       "2                                 NaN           4.0          0.500000  \n",
       "3                                 NaN           4.0          0.750000  \n",
       "4                                 NaN           5.0          0.600000  \n",
       "5                                 NaN           7.0          0.571429  \n",
       "...                               ...           ...               ...  \n",
       "13                                NaN       47489.0          0.386826  \n",
       "14                                NaN       49806.0          0.391860  \n",
       "15                                NaN       50241.0          0.386199  \n",
       "16                                NaN       32932.0          0.404227  \n",
       "17                                NaN         965.0          0.369948  \n",
       "\n",
       "[70 rows x 6 columns]"
      ]
     },
     "execution_count": 21,
     "metadata": {},
     "output_type": "execute_result"
    }
   ],
   "source": [
    "tabela"
   ]
  }
 ],
 "metadata": {
  "kernelspec": {
   "display_name": "Python 3",
   "language": "python",
   "name": "python3"
  },
  "language_info": {
   "codemirror_mode": {
    "name": "ipython",
    "version": 3
   },
   "file_extension": ".py",
   "mimetype": "text/x-python",
   "name": "python",
   "nbconvert_exporter": "python",
   "pygments_lexer": "ipython3",
   "version": "3.8.5"
  }
 },
 "nbformat": 4,
 "nbformat_minor": 4
}
