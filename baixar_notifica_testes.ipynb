{
 "cells": [
  {
   "cell_type": "code",
   "execution_count": 1,
   "metadata": {},
   "outputs": [],
   "source": [
    "import pandas as pd\n",
    "from epiweeks import Week\n",
    "from datetime import datetime, date\n",
    "from bulletin.data.notifica import Notifica\n",
    "from bulletin import __file__ as __root__\n",
    "from bulletin.metabase.request import download_metabase"
   ]
  },
  {
   "cell_type": "code",
   "execution_count": 2,
   "metadata": {},
   "outputs": [],
   "source": [
    "notifica = Notifica()"
   ]
  },
  {
   "cell_type": "code",
   "execution_count": 3,
   "metadata": {},
   "outputs": [
    {
     "name": "stdout",
     "output_type": "stream",
     "text": [
      "Requesting classificacao_final IS NULL AND nt.metodo <> '' AND nt.metodo <> '3' AND nt.metodo IS NOT NULL AND nt.excluir_ficha = '2' AND nt.uf_residencia = '41' AND nt.uf_unidade_notifica = '41' AND (nt.status_notificacao = '1' OR nt.status_notificacao = '2')\n",
      "Success code 200\n",
      "Saving in input\\queries_exames\\null.csv\n",
      "Download finish, time elapsed: 0:00:00.115358\n",
      "downloaded shape (17, 4)\n",
      "\n",
      "Requesting classificacao_final = 0 AND nt.metodo <> '' AND nt.metodo <> '3' AND nt.metodo IS NOT NULL AND nt.excluir_ficha = '2' AND nt.uf_residencia = '41' AND nt.uf_unidade_notifica = '41' AND (nt.status_notificacao = '1' OR nt.status_notificacao = '2')\n",
      "Success code 200\n",
      "Saving in input\\queries_exames\\0.csv\n",
      "Download finish, time elapsed: 0:00:00.049552\n",
      "downloaded shape (12, 4)\n",
      "\n",
      "Requesting classificacao_final = 1 AND nt.metodo <> '' AND nt.metodo <> '3' AND nt.metodo IS NOT NULL AND nt.excluir_ficha = '2' AND nt.uf_residencia = '41' AND nt.uf_unidade_notifica = '41' AND (nt.status_notificacao = '1' OR nt.status_notificacao = '2')\n",
      "Success code 200\n",
      "Saving in input\\queries_exames\\1.csv\n",
      "Download finish, time elapsed: 0:00:33.851560\n",
      "downloaded shape (347031, 4)\n",
      "\n",
      "Requesting classificacao_final = 2 AND nt.metodo <> '' AND nt.metodo <> '3' AND nt.metodo IS NOT NULL AND nt.excluir_ficha = '2' AND nt.uf_residencia = '41' AND nt.uf_unidade_notifica = '41' AND (nt.status_notificacao = '1' OR nt.status_notificacao = '2')\n",
      "Success code 200\n",
      "Saving in input\\queries_exames\\2.csv\n",
      "Download finish, time elapsed: 0:00:33.821264\n",
      "downloaded shape (834184, 4)\n",
      "\n",
      "Requesting classificacao_final = 3 AND nt.metodo <> '' AND nt.metodo <> '3' AND nt.metodo IS NOT NULL AND nt.excluir_ficha = '2' AND nt.uf_residencia = '41' AND nt.uf_unidade_notifica = '41' AND (nt.status_notificacao = '1' OR nt.status_notificacao = '2')\n",
      "Success code 200\n",
      "Saving in input\\queries_exames\\3.csv\n",
      "Download finish, time elapsed: 0:00:44.293275\n",
      "downloaded shape (721644, 4)\n",
      "\n",
      "Requesting classificacao_final = 5 AND nt.metodo <> '' AND nt.metodo <> '3' AND nt.metodo IS NOT NULL AND nt.excluir_ficha = '2' AND nt.uf_residencia = '41' AND nt.uf_unidade_notifica = '41' AND (nt.status_notificacao = '1' OR nt.status_notificacao = '2')\n",
      "Success code 200\n",
      "Saving in input\\queries_exames\\5.csv\n",
      "Download finish, time elapsed: 0:00:00.360749\n",
      "downloaded shape (3791, 4)\n",
      "\n"
     ]
    }
   ],
   "source": [
    "notifica.download_todas_notificacoes()"
   ]
  },
  {
   "cell_type": "code",
   "execution_count": 4,
   "metadata": {},
   "outputs": [],
   "source": [
    "notifica.read_todas_notificacoes()"
   ]
  },
  {
   "cell_type": "code",
   "execution_count": 5,
   "metadata": {},
   "outputs": [],
   "source": [
    "todos_exames = notifica.get_casos()"
   ]
  },
  {
   "cell_type": "code",
   "execution_count": 6,
   "metadata": {},
   "outputs": [],
   "source": [
    "#todos_exames.loc[~todos_exames['data_notificacao'].isnull(), 'ano'] = todos_exames['data_notificacao'].loc[~todos_exames['data_notificacao'].isnull()].apply(lambda x: Week.fromdate(x).year)\n",
    "#todos_exames.loc[~todos_exames['data_notificacao'].isnull(), 'se'] = todos_exames['data_notificacao'].loc[~todos_exames['data_notificacao'].isnull()].apply(lambda x: Week.fromdate(x).week)\n",
    "todos_exames = todos_exames.loc[~todos_exames['ibge_unidade_notifica'].isnull()]\n",
    "todos_exames = todos_exames.loc[~todos_exames['data_notificacao'].isnull()]\n",
    "todos_exames['se'] = todos_exames['data_notificacao'].apply(lambda x: Week.fromdate(x))"
   ]
  },
  {
   "cell_type": "code",
   "execution_count": 7,
   "metadata": {},
   "outputs": [],
   "source": [
    "#todos_exames\n",
    "tabela = todos_exames.groupby(['se','classificacao_final'])[['metodo']].count().unstack()"
   ]
  },
  {
   "cell_type": "code",
   "execution_count": 8,
   "metadata": {},
   "outputs": [],
   "source": [
    "tabela = tabela.droplevel(0, axis=1)"
   ]
  },
  {
   "cell_type": "code",
   "execution_count": 9,
   "metadata": {},
   "outputs": [],
   "source": [
    "for row in tabela.index.values:\n",
    "    if row.year < 2020:\n",
    "        tabela = tabela.drop(row)"
   ]
  },
  {
   "cell_type": "code",
   "execution_count": 10,
   "metadata": {},
   "outputs": [],
   "source": [
    "tabela = tabela[[2, 3, 1, 5, 0]]"
   ]
  },
  {
   "cell_type": "code",
   "execution_count": 11,
   "metadata": {},
   "outputs": [],
   "source": [
    "tabela.loc[tabela[5].isnull(), 5] = 0\n",
    "tabela.loc[tabela[0].isnull(), 0] = 0\n",
    "tabela[5] = tabela[5].add(tabela[0])\n",
    "tabela = tabela.drop(0, axis=1)"
   ]
  },
  {
   "cell_type": "code",
   "execution_count": 12,
   "metadata": {},
   "outputs": [],
   "source": [
    "tabela.to_excel('output/exames_notifica.xlsx', index = False)"
   ]
  },
  {
   "cell_type": "code",
   "execution_count": 13,
   "metadata": {},
   "outputs": [
    {
     "data": {
      "text/html": [
       "<div>\n",
       "<style scoped>\n",
       "    .dataframe tbody tr th:only-of-type {\n",
       "        vertical-align: middle;\n",
       "    }\n",
       "\n",
       "    .dataframe tbody tr th {\n",
       "        vertical-align: top;\n",
       "    }\n",
       "\n",
       "    .dataframe thead th {\n",
       "        text-align: right;\n",
       "    }\n",
       "</style>\n",
       "<table border=\"1\" class=\"dataframe\">\n",
       "  <thead>\n",
       "    <tr style=\"text-align: right;\">\n",
       "      <th>classificacao_final</th>\n",
       "      <th>2.0</th>\n",
       "      <th>3.0</th>\n",
       "      <th>1.0</th>\n",
       "      <th>5.0</th>\n",
       "    </tr>\n",
       "    <tr>\n",
       "      <th>se</th>\n",
       "      <th></th>\n",
       "      <th></th>\n",
       "      <th></th>\n",
       "      <th></th>\n",
       "    </tr>\n",
       "  </thead>\n",
       "  <tbody>\n",
       "    <tr>\n",
       "      <th>202001</th>\n",
       "      <td>4.0</td>\n",
       "      <td>2.0</td>\n",
       "      <td>NaN</td>\n",
       "      <td>0.0</td>\n",
       "    </tr>\n",
       "    <tr>\n",
       "      <th>202002</th>\n",
       "      <td>2.0</td>\n",
       "      <td>1.0</td>\n",
       "      <td>1.0</td>\n",
       "      <td>0.0</td>\n",
       "    </tr>\n",
       "    <tr>\n",
       "      <th>202003</th>\n",
       "      <td>3.0</td>\n",
       "      <td>1.0</td>\n",
       "      <td>NaN</td>\n",
       "      <td>0.0</td>\n",
       "    </tr>\n",
       "    <tr>\n",
       "      <th>202004</th>\n",
       "      <td>3.0</td>\n",
       "      <td>2.0</td>\n",
       "      <td>NaN</td>\n",
       "      <td>0.0</td>\n",
       "    </tr>\n",
       "    <tr>\n",
       "      <th>202005</th>\n",
       "      <td>4.0</td>\n",
       "      <td>3.0</td>\n",
       "      <td>NaN</td>\n",
       "      <td>0.0</td>\n",
       "    </tr>\n",
       "    <tr>\n",
       "      <th>...</th>\n",
       "      <td>...</td>\n",
       "      <td>...</td>\n",
       "      <td>...</td>\n",
       "      <td>...</td>\n",
       "    </tr>\n",
       "    <tr>\n",
       "      <th>202112</th>\n",
       "      <td>27904.0</td>\n",
       "      <td>21460.0</td>\n",
       "      <td>16002.0</td>\n",
       "      <td>0.0</td>\n",
       "    </tr>\n",
       "    <tr>\n",
       "      <th>202113</th>\n",
       "      <td>18121.0</td>\n",
       "      <td>15582.0</td>\n",
       "      <td>13476.0</td>\n",
       "      <td>0.0</td>\n",
       "    </tr>\n",
       "    <tr>\n",
       "      <th>202114</th>\n",
       "      <td>18890.0</td>\n",
       "      <td>16675.0</td>\n",
       "      <td>13693.0</td>\n",
       "      <td>0.0</td>\n",
       "    </tr>\n",
       "    <tr>\n",
       "      <th>202115</th>\n",
       "      <td>14922.0</td>\n",
       "      <td>10934.0</td>\n",
       "      <td>12940.0</td>\n",
       "      <td>0.0</td>\n",
       "    </tr>\n",
       "    <tr>\n",
       "      <th>202116</th>\n",
       "      <td>378.0</td>\n",
       "      <td>159.0</td>\n",
       "      <td>575.0</td>\n",
       "      <td>0.0</td>\n",
       "    </tr>\n",
       "  </tbody>\n",
       "</table>\n",
       "<p>69 rows × 4 columns</p>\n",
       "</div>"
      ],
      "text/plain": [
       "classificacao_final      2.0      3.0      1.0  5.0\n",
       "se                                                 \n",
       "202001                   4.0      2.0      NaN  0.0\n",
       "202002                   2.0      1.0      1.0  0.0\n",
       "202003                   3.0      1.0      NaN  0.0\n",
       "202004                   3.0      2.0      NaN  0.0\n",
       "202005                   4.0      3.0      NaN  0.0\n",
       "...                      ...      ...      ...  ...\n",
       "202112               27904.0  21460.0  16002.0  0.0\n",
       "202113               18121.0  15582.0  13476.0  0.0\n",
       "202114               18890.0  16675.0  13693.0  0.0\n",
       "202115               14922.0  10934.0  12940.0  0.0\n",
       "202116                 378.0    159.0    575.0  0.0\n",
       "\n",
       "[69 rows x 4 columns]"
      ]
     },
     "execution_count": 13,
     "metadata": {},
     "output_type": "execute_result"
    }
   ],
   "source": [
    "tabela"
   ]
  }
 ],
 "metadata": {
  "kernelspec": {
   "display_name": "Python 3",
   "language": "python",
   "name": "python3"
  },
  "language_info": {
   "codemirror_mode": {
    "name": "ipython",
    "version": 3
   },
   "file_extension": ".py",
   "mimetype": "text/x-python",
   "name": "python",
   "nbconvert_exporter": "python",
   "pygments_lexer": "ipython3",
   "version": "3.8.5"
  }
 },
 "nbformat": 4,
 "nbformat_minor": 4
}
