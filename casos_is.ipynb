{
 "cells": [
  {
   "cell_type": "code",
   "execution_count": 7,
   "metadata": {},
   "outputs": [],
   "source": [
    "import pandas as pd\n",
    "from epiweeks import Week\n",
    "from bulletin import __file__ as __root__\n",
    "from bulletin.data.casos_confirmados import CasosConfirmados"
   ]
  },
  {
   "cell_type": "code",
   "execution_count": 8,
   "metadata": {},
   "outputs": [
    {
     "name": "stdout",
     "output_type": "stream",
     "text": [
      "saved checksum: 56625b0d9cabc5be8bb69f8b506ab1db62f14609e617c4b9e132b2eced042432\n",
      "current checksum: 56625b0d9cabc5be8bb69f8b506ab1db62f14609e617c4b9e132b2eced042432\n",
      "Tudo certo, nenhuma alteração detectada\n",
      "Utilizando forcadamente com método update\n",
      "Atualizando o arquivo {'casos': 'C:\\\\Users\\\\est.joaosilva\\\\covid19datascience\\\\bulletin\\\\tmp\\\\casos.pkl', 'obitos': 'C:\\\\Users\\\\est.joaosilva\\\\covid19datascience\\\\bulletin\\\\tmp\\\\obitos.pkl'} com o C:\\Users\\est.joaosilva\\covid19datascience\\bulletin\\tmp\\Casos confirmados.xlsx...\n",
      "Casos excluidos: 0\n",
      "Obitos excluidos: 0\n",
      "{'casos': 'C:\\\\Users\\\\est.joaosilva\\\\covid19datascience\\\\bulletin\\\\tmp\\\\casos.pkl', 'obitos': 'C:\\\\Users\\\\est.joaosilva\\\\covid19datascience\\\\bulletin\\\\tmp\\\\obitos.pkl'} salvo e C:\\Users\\est.joaosilva\\covid19datascience\\bulletin\\tmp\\casos_confirmados_checksum atualizado\n",
      "{'casos': 'C:\\\\Users\\\\est.joaosilva\\\\covid19datascience\\\\bulletin\\\\tmp\\\\casos.pkl', 'obitos': 'C:\\\\Users\\\\est.joaosilva\\\\covid19datascience\\\\bulletin\\\\tmp\\\\obitos.pkl'} carregado\n"
     ]
    },
    {
     "data": {
      "text/plain": [
       "(929097, 21564)"
      ]
     },
     "execution_count": 8,
     "metadata": {},
     "output_type": "execute_result"
    }
   ],
   "source": [
    "casos_confirmados = CasosConfirmados(force=True, hard=True)\n",
    "casos_confirmados.shape()"
   ]
  },
  {
   "cell_type": "code",
   "execution_count": 191,
   "metadata": {},
   "outputs": [],
   "source": [
    "casos = casos_confirmados.get_casos()"
   ]
  },
  {
   "cell_type": "code",
   "execution_count": 192,
   "metadata": {},
   "outputs": [],
   "source": [
    "sivep = pd.read_excel('output/TABELA_testes_sivep.xlsx')\n",
    "notifica = pd.read_excel('output/TABELA_testes_notifica.xlsx')\n",
    "notifica = notifica.set_index('SE')\n",
    "sivep = sivep.set_index('SE')"
   ]
  },
  {
   "cell_type": "code",
   "execution_count": 193,
   "metadata": {},
   "outputs": [],
   "source": [
    "casos['dt_diag'] = casos['dt_diag'].apply(lambda x: pd.to_datetime(x, format='%d/%m/%Y'))\n",
    "casos['is'] = casos['is'].apply(lambda x: pd.to_datetime(x, format='%d/%m/%Y'))"
   ]
  },
  {
   "cell_type": "code",
   "execution_count": 194,
   "metadata": {},
   "outputs": [],
   "source": [
    "casos['se_diag'] = casos['dt_diag'].apply(lambda x: Week.fromdate(x))\n",
    "casos.loc[~casos['is'].isnull(), 'se_is'] = casos['is'].loc[~casos['is'].isnull()].apply(lambda x: Week.fromdate(x))"
   ]
  },
  {
   "cell_type": "code",
   "execution_count": 195,
   "metadata": {},
   "outputs": [],
   "source": [
    "tabela_diag = casos.groupby(['se_diag'])[['nome']].count()"
   ]
  },
  {
   "cell_type": "code",
   "execution_count": 196,
   "metadata": {},
   "outputs": [],
   "source": [
    "tabela_is = casos.groupby(['se_is'])[['nome']].count()\n",
    "for row in tabela_is.index.values:\n",
    "    if row.year < 2020:\n",
    "        tabela_is = tabela_is.drop(row)"
   ]
  },
  {
   "cell_type": "code",
   "execution_count": 197,
   "metadata": {},
   "outputs": [],
   "source": [
    "tabela = pd.DataFrame(sivep['Positividade (%)']).rename(columns={'Positividade (%)': 'Positividade SRAG'})\n",
    "notifica = pd.DataFrame(notifica['Positividade (%)']).rename(columns={'Positividade (%)': 'Positividade SG'})\n",
    "tabela = tabela.merge(how = 'left', on = tabela.index, right = notifica)\n",
    "tabela = tabela.set_index('key_0')"
   ]
  },
  {
   "cell_type": "code",
   "execution_count": 198,
   "metadata": {},
   "outputs": [
    {
     "name": "stderr",
     "output_type": "stream",
     "text": [
      "C:\\Users\\est.joaosilva\\Anaconda3\\lib\\site-packages\\numpy\\core\\numeric.py:2378: FutureWarning: elementwise comparison failed; returning scalar instead, but in the future will perform elementwise comparison\n",
      "  return bool(asarray(a1 == a2).all())\n"
     ]
    },
    {
     "ename": "KeyError",
     "evalue": "Int64Index([202001, 202002, 202003, 202004, 202005, 202006, 202007, 202008,\n            202009, 202010, 202011, 202012, 202013, 202014, 202015, 202016,\n            202017, 202018, 202019, 202020, 202021, 202022, 202023, 202024,\n            202025, 202026, 202027, 202028, 202029, 202030, 202031, 202032,\n            202033, 202034, 202035, 202036, 202037, 202038, 202039, 202040,\n            202041, 202042, 202043, 202044, 202045, 202046, 202047, 202048,\n            202049, 202050, 202051, 202052, 202053, 202101, 202102, 202103,\n            202104, 202105, 202106, 202107, 202108, 202109, 202110, 202111,\n            202112, 202113, 202114, 202115, 202116, 202117],\n           dtype='int64')",
     "output_type": "error",
     "traceback": [
      "\u001b[1;31m---------------------------------------------------------------------------\u001b[0m",
      "\u001b[1;31mKeyError\u001b[0m                                  Traceback (most recent call last)",
      "\u001b[1;32m<ipython-input-198-47d4975d94e2>\u001b[0m in \u001b[0;36m<module>\u001b[1;34m\u001b[0m\n\u001b[0;32m      6\u001b[0m \u001b[1;31m# tabela_diag = tabela_diag.set_index(index)\u001b[0m\u001b[1;33m\u001b[0m\u001b[1;33m\u001b[0m\u001b[1;33m\u001b[0m\u001b[0m\n\u001b[0;32m      7\u001b[0m \u001b[0mtabela\u001b[0m\u001b[1;33m.\u001b[0m\u001b[0mindex\u001b[0m\u001b[1;33m.\u001b[0m\u001b[0mname\u001b[0m \u001b[1;33m=\u001b[0m \u001b[1;32mNone\u001b[0m\u001b[1;33m\u001b[0m\u001b[1;33m\u001b[0m\u001b[0m\n\u001b[1;32m----> 8\u001b[1;33m \u001b[0mtabela\u001b[0m \u001b[1;33m=\u001b[0m \u001b[0mtabela\u001b[0m\u001b[1;33m.\u001b[0m\u001b[0mmerge\u001b[0m\u001b[1;33m(\u001b[0m\u001b[0mhow\u001b[0m \u001b[1;33m=\u001b[0m \u001b[1;34m'left'\u001b[0m\u001b[1;33m,\u001b[0m \u001b[0mon\u001b[0m \u001b[1;33m=\u001b[0m \u001b[0mtabela\u001b[0m\u001b[1;33m.\u001b[0m\u001b[0mindex\u001b[0m\u001b[1;33m,\u001b[0m \u001b[0mright\u001b[0m \u001b[1;33m=\u001b[0m \u001b[0mtabela_diag\u001b[0m\u001b[1;33m)\u001b[0m\u001b[1;33m\u001b[0m\u001b[1;33m\u001b[0m\u001b[0m\n\u001b[0m\u001b[0;32m      9\u001b[0m \u001b[0mtabela\u001b[0m \u001b[1;33m=\u001b[0m \u001b[0mtabela\u001b[0m\u001b[1;33m[\u001b[0m\u001b[1;33m[\u001b[0m\u001b[1;34m'Positividade SRAG'\u001b[0m\u001b[1;33m,\u001b[0m \u001b[1;34m'Positividade SG'\u001b[0m\u001b[1;33m,\u001b[0m \u001b[1;34m'Diagnóstico'\u001b[0m\u001b[1;33m]\u001b[0m\u001b[1;33m]\u001b[0m\u001b[1;33m\u001b[0m\u001b[1;33m\u001b[0m\u001b[0m\n\u001b[0;32m     10\u001b[0m \u001b[0mindex\u001b[0m \u001b[1;33m=\u001b[0m \u001b[0mpd\u001b[0m\u001b[1;33m.\u001b[0m\u001b[0mSeries\u001b[0m\u001b[1;33m(\u001b[0m\u001b[0mdtype\u001b[0m \u001b[1;33m=\u001b[0m \u001b[1;34m'int64'\u001b[0m\u001b[1;33m)\u001b[0m\u001b[1;33m\u001b[0m\u001b[1;33m\u001b[0m\u001b[0m\n",
      "\u001b[1;32m~\\Anaconda3\\lib\\site-packages\\pandas\\core\\frame.py\u001b[0m in \u001b[0;36mmerge\u001b[1;34m(self, right, how, on, left_on, right_on, left_index, right_index, sort, suffixes, copy, indicator, validate)\u001b[0m\n\u001b[0;32m   7944\u001b[0m         \u001b[1;32mfrom\u001b[0m \u001b[0mpandas\u001b[0m\u001b[1;33m.\u001b[0m\u001b[0mcore\u001b[0m\u001b[1;33m.\u001b[0m\u001b[0mreshape\u001b[0m\u001b[1;33m.\u001b[0m\u001b[0mmerge\u001b[0m \u001b[1;32mimport\u001b[0m \u001b[0mmerge\u001b[0m\u001b[1;33m\u001b[0m\u001b[1;33m\u001b[0m\u001b[0m\n\u001b[0;32m   7945\u001b[0m \u001b[1;33m\u001b[0m\u001b[0m\n\u001b[1;32m-> 7946\u001b[1;33m         return merge(\n\u001b[0m\u001b[0;32m   7947\u001b[0m             \u001b[0mself\u001b[0m\u001b[1;33m,\u001b[0m\u001b[1;33m\u001b[0m\u001b[1;33m\u001b[0m\u001b[0m\n\u001b[0;32m   7948\u001b[0m             \u001b[0mright\u001b[0m\u001b[1;33m,\u001b[0m\u001b[1;33m\u001b[0m\u001b[1;33m\u001b[0m\u001b[0m\n",
      "\u001b[1;32m~\\Anaconda3\\lib\\site-packages\\pandas\\core\\reshape\\merge.py\u001b[0m in \u001b[0;36mmerge\u001b[1;34m(left, right, how, on, left_on, right_on, left_index, right_index, sort, suffixes, copy, indicator, validate)\u001b[0m\n\u001b[0;32m     72\u001b[0m     \u001b[0mvalidate\u001b[0m\u001b[1;33m=\u001b[0m\u001b[1;32mNone\u001b[0m\u001b[1;33m,\u001b[0m\u001b[1;33m\u001b[0m\u001b[1;33m\u001b[0m\u001b[0m\n\u001b[0;32m     73\u001b[0m ) -> \"DataFrame\":\n\u001b[1;32m---> 74\u001b[1;33m     op = _MergeOperation(\n\u001b[0m\u001b[0;32m     75\u001b[0m         \u001b[0mleft\u001b[0m\u001b[1;33m,\u001b[0m\u001b[1;33m\u001b[0m\u001b[1;33m\u001b[0m\u001b[0m\n\u001b[0;32m     76\u001b[0m         \u001b[0mright\u001b[0m\u001b[1;33m,\u001b[0m\u001b[1;33m\u001b[0m\u001b[1;33m\u001b[0m\u001b[0m\n",
      "\u001b[1;32m~\\Anaconda3\\lib\\site-packages\\pandas\\core\\reshape\\merge.py\u001b[0m in \u001b[0;36m__init__\u001b[1;34m(self, left, right, how, on, left_on, right_on, axis, left_index, right_index, sort, suffixes, copy, indicator, validate)\u001b[0m\n\u001b[0;32m    650\u001b[0m             \u001b[0mself\u001b[0m\u001b[1;33m.\u001b[0m\u001b[0mright_join_keys\u001b[0m\u001b[1;33m,\u001b[0m\u001b[1;33m\u001b[0m\u001b[1;33m\u001b[0m\u001b[0m\n\u001b[0;32m    651\u001b[0m             \u001b[0mself\u001b[0m\u001b[1;33m.\u001b[0m\u001b[0mjoin_names\u001b[0m\u001b[1;33m,\u001b[0m\u001b[1;33m\u001b[0m\u001b[1;33m\u001b[0m\u001b[0m\n\u001b[1;32m--> 652\u001b[1;33m         ) = self._get_merge_keys()\n\u001b[0m\u001b[0;32m    653\u001b[0m \u001b[1;33m\u001b[0m\u001b[0m\n\u001b[0;32m    654\u001b[0m         \u001b[1;31m# validate the merge keys dtypes. We may need to coerce\u001b[0m\u001b[1;33m\u001b[0m\u001b[1;33m\u001b[0m\u001b[1;33m\u001b[0m\u001b[0m\n",
      "\u001b[1;32m~\\Anaconda3\\lib\\site-packages\\pandas\\core\\reshape\\merge.py\u001b[0m in \u001b[0;36m_get_merge_keys\u001b[1;34m(self)\u001b[0m\n\u001b[0;32m    994\u001b[0m                     \u001b[1;32melse\u001b[0m\u001b[1;33m:\u001b[0m\u001b[1;33m\u001b[0m\u001b[1;33m\u001b[0m\u001b[0m\n\u001b[0;32m    995\u001b[0m                         \u001b[1;32mif\u001b[0m \u001b[0mrk\u001b[0m \u001b[1;32mis\u001b[0m \u001b[1;32mnot\u001b[0m \u001b[1;32mNone\u001b[0m\u001b[1;33m:\u001b[0m\u001b[1;33m\u001b[0m\u001b[1;33m\u001b[0m\u001b[0m\n\u001b[1;32m--> 996\u001b[1;33m                             \u001b[0mright_keys\u001b[0m\u001b[1;33m.\u001b[0m\u001b[0mappend\u001b[0m\u001b[1;33m(\u001b[0m\u001b[0mright\u001b[0m\u001b[1;33m.\u001b[0m\u001b[0m_get_label_or_level_values\u001b[0m\u001b[1;33m(\u001b[0m\u001b[0mrk\u001b[0m\u001b[1;33m)\u001b[0m\u001b[1;33m)\u001b[0m\u001b[1;33m\u001b[0m\u001b[1;33m\u001b[0m\u001b[0m\n\u001b[0m\u001b[0;32m    997\u001b[0m                             \u001b[0mjoin_names\u001b[0m\u001b[1;33m.\u001b[0m\u001b[0mappend\u001b[0m\u001b[1;33m(\u001b[0m\u001b[0mrk\u001b[0m\u001b[1;33m)\u001b[0m\u001b[1;33m\u001b[0m\u001b[1;33m\u001b[0m\u001b[0m\n\u001b[0;32m    998\u001b[0m                         \u001b[1;32melse\u001b[0m\u001b[1;33m:\u001b[0m\u001b[1;33m\u001b[0m\u001b[1;33m\u001b[0m\u001b[0m\n",
      "\u001b[1;32m~\\Anaconda3\\lib\\site-packages\\pandas\\core\\generic.py\u001b[0m in \u001b[0;36m_get_label_or_level_values\u001b[1;34m(self, key, axis)\u001b[0m\n\u001b[0;32m   1561\u001b[0m             \u001b[0mvalues\u001b[0m \u001b[1;33m=\u001b[0m \u001b[0mself\u001b[0m\u001b[1;33m.\u001b[0m\u001b[0maxes\u001b[0m\u001b[1;33m[\u001b[0m\u001b[0maxis\u001b[0m\u001b[1;33m]\u001b[0m\u001b[1;33m.\u001b[0m\u001b[0mget_level_values\u001b[0m\u001b[1;33m(\u001b[0m\u001b[0mkey\u001b[0m\u001b[1;33m)\u001b[0m\u001b[1;33m.\u001b[0m\u001b[0m_values\u001b[0m\u001b[1;33m\u001b[0m\u001b[1;33m\u001b[0m\u001b[0m\n\u001b[0;32m   1562\u001b[0m         \u001b[1;32melse\u001b[0m\u001b[1;33m:\u001b[0m\u001b[1;33m\u001b[0m\u001b[1;33m\u001b[0m\u001b[0m\n\u001b[1;32m-> 1563\u001b[1;33m             \u001b[1;32mraise\u001b[0m \u001b[0mKeyError\u001b[0m\u001b[1;33m(\u001b[0m\u001b[0mkey\u001b[0m\u001b[1;33m)\u001b[0m\u001b[1;33m\u001b[0m\u001b[1;33m\u001b[0m\u001b[0m\n\u001b[0m\u001b[0;32m   1564\u001b[0m \u001b[1;33m\u001b[0m\u001b[0m\n\u001b[0;32m   1565\u001b[0m         \u001b[1;31m# Check for duplicates\u001b[0m\u001b[1;33m\u001b[0m\u001b[1;33m\u001b[0m\u001b[1;33m\u001b[0m\u001b[0m\n",
      "\u001b[1;31mKeyError\u001b[0m: Int64Index([202001, 202002, 202003, 202004, 202005, 202006, 202007, 202008,\n            202009, 202010, 202011, 202012, 202013, 202014, 202015, 202016,\n            202017, 202018, 202019, 202020, 202021, 202022, 202023, 202024,\n            202025, 202026, 202027, 202028, 202029, 202030, 202031, 202032,\n            202033, 202034, 202035, 202036, 202037, 202038, 202039, 202040,\n            202041, 202042, 202043, 202044, 202045, 202046, 202047, 202048,\n            202049, 202050, 202051, 202052, 202053, 202101, 202102, 202103,\n            202104, 202105, 202106, 202107, 202108, 202109, 202110, 202111,\n            202112, 202113, 202114, 202115, 202116, 202117],\n           dtype='int64')"
     ]
    }
   ],
   "source": [
    "tabela_diag = tabela_diag[['nome']].rename(columns={'nome': 'Diagnóstico'})\n",
    "tabela_is = tabela_is[['nome']].rename(columns={'nome':'Primeiros sintomas'})\n",
    "index = pd.Series(dtype = 'int64')\n",
    "for line in tabela_diag.index.values:\n",
    "    index = index.append(pd.Series(line.cdcformat(), dtype = 'int64'))\n",
    "# tabela_diag = tabela_diag.set_index(index)\n",
    "tabela.index.name = None\n",
    "tabela = tabela.merge(how = 'left', on = tabela.index, right = tabela_diag)\n",
    "tabela = tabela[['Positividade SRAG', 'Positividade SG', 'Diagnóstico']]\n",
    "index = pd.Series(dtype = 'int64')\n",
    "for line in tabela_is.index.values:\n",
    "    index = index.append(pd.Series(line.cdcformat(), dtype = 'int64'))\n",
    "tabela_is = tabela_is.set_index(index)\n",
    "tabela = tabela.merge(how = 'left', on = tabela.index, right = tabela_is)\n",
    "tabela = tabela[['Positividade SRAG', 'Positividade SG', 'Diagnóstico', 'Primeiros sintomas']]\n",
    "\n",
    "tabela = tabela.merge(how = 'left', on = tabela.index, right = sivep['Semana Epidemiológica'])\n",
    "tabela = tabela[['Semana Epidemiológica']].rename(columns={'Semana Epidemiológica': 'SE'})\n",
    "tabela = tabela[['Primeiros sintomas', 'Diagnóstico', 'Positividade SG', 'Positividade SRAG', 'SE']]\n",
    "tabela = tabela.set_index('SE')"
   ]
  },
  {
   "cell_type": "code",
   "execution_count": 11,
   "metadata": {},
   "outputs": [],
   "source": [
    "# total_diag = tabela_diag.sum(0)\n",
    "# tabela_diag = tabela_diag.append(total_diag, ignore_index = True)"
   ]
  },
  {
   "cell_type": "code",
   "execution_count": 12,
   "metadata": {},
   "outputs": [],
   "source": [
    "# total_is = tabela_is.sum(0)\n",
    "# tabela_is = tabela_is.append(total_is, ignore_index = True)"
   ]
  },
  {
   "cell_type": "code",
   "execution_count": 13,
   "metadata": {},
   "outputs": [],
   "source": [
    "# tabela_casos['rs'] = list(range(1, 23)) + ['Totais']\n",
    "# tabela_casos = tabela_casos.set_index('rs')"
   ]
  },
  {
   "cell_type": "code",
   "execution_count": 14,
   "metadata": {},
   "outputs": [],
   "source": [
    "# tabela_obitos['rs'] = list(range(1, 23)) + ['Totais']\n",
    "# tabela_obitos = tabela_obitos.set_index('rs')"
   ]
  },
  {
   "cell_type": "code",
   "execution_count": 52,
   "metadata": {},
   "outputs": [],
   "source": [
    "tabela_diag.to_excel('output/tabela_diag.xlsx', index = False)\n",
    "tabela_is.to_excel('output/tabela_is.xlsx', index = False)"
   ]
  }
 ],
 "metadata": {
  "kernelspec": {
   "display_name": "Python 3",
   "language": "python",
   "name": "python3"
  },
  "language_info": {
   "codemirror_mode": {
    "name": "ipython",
    "version": 3
   },
   "file_extension": ".py",
   "mimetype": "text/x-python",
   "name": "python",
   "nbconvert_exporter": "python",
   "pygments_lexer": "ipython3",
   "version": "3.8.5"
  }
 },
 "nbformat": 4,
 "nbformat_minor": 4
}
