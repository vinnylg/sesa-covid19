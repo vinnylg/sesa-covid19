{
 "cells": [
  {
   "cell_type": "code",
   "execution_count": 1,
   "metadata": {},
   "outputs": [],
   "source": [
    "import pandas as pd\n",
    "from epiweeks import Week\n",
    "from bulletin import __file__ as __root__\n",
    "from bulletin.data.casos_confirmados import CasosConfirmados"
   ]
  },
  {
   "cell_type": "code",
   "execution_count": 2,
   "metadata": {},
   "outputs": [
    {
     "name": "stdout",
     "output_type": "stream",
     "text": [
      "current checksum: 56625b0d9cabc5be8bb69f8b506ab1db62f14609e617c4b9e132b2eced042432\n",
      "Parece que o arquivo C:\\Users\\est.joaosilva\\covid19datascience\\bulletin\\tmp\\Casos confirmados.xlsx sofreu alterações, considere usar o método update ou o passe force=True\n",
      "Utilizando o método update\n",
      "Atualizando o arquivo {'casos': 'C:\\\\Users\\\\est.joaosilva\\\\covid19datascience\\\\bulletin\\\\tmp\\\\casos.pkl', 'obitos': 'C:\\\\Users\\\\est.joaosilva\\\\covid19datascience\\\\bulletin\\\\tmp\\\\obitos.pkl'} com o C:\\Users\\est.joaosilva\\covid19datascience\\bulletin\\tmp\\Casos confirmados.xlsx...\n",
      "Casos excluidos: 0\n",
      "Obitos excluidos: 0\n",
      "{'casos': 'C:\\\\Users\\\\est.joaosilva\\\\covid19datascience\\\\bulletin\\\\tmp\\\\casos.pkl', 'obitos': 'C:\\\\Users\\\\est.joaosilva\\\\covid19datascience\\\\bulletin\\\\tmp\\\\obitos.pkl'} salvo e C:\\Users\\est.joaosilva\\covid19datascience\\bulletin\\tmp\\casos_confirmados_checksum atualizado\n",
      "{'casos': 'C:\\\\Users\\\\est.joaosilva\\\\covid19datascience\\\\bulletin\\\\tmp\\\\casos.pkl', 'obitos': 'C:\\\\Users\\\\est.joaosilva\\\\covid19datascience\\\\bulletin\\\\tmp\\\\obitos.pkl'} carregado\n"
     ]
    },
    {
     "data": {
      "text/plain": [
       "(929097, 21564)"
      ]
     },
     "execution_count": 2,
     "metadata": {},
     "output_type": "execute_result"
    }
   ],
   "source": [
    "casos_confirmados = CasosConfirmados(force=True, hard=True)\n",
    "casos_confirmados.shape()"
   ]
  },
  {
   "cell_type": "code",
   "execution_count": 35,
   "metadata": {},
   "outputs": [],
   "source": [
    "casos = casos_confirmados.get_casos()"
   ]
  },
  {
   "cell_type": "code",
   "execution_count": 36,
   "metadata": {},
   "outputs": [],
   "source": [
    "sivep = pd.read_excel('output/exames_sivep.xlsx')\n",
    "notifica = pd.read_excel('output/exames_notifica.xlsx')"
   ]
  },
  {
   "cell_type": "code",
   "execution_count": 37,
   "metadata": {},
   "outputs": [],
   "source": [
    "casos['dt_diag'] = casos['dt_diag'].apply(lambda x: pd.to_datetime(x, format='%d/%m/%Y'))\n",
    "casos['is'] = casos['is'].apply(lambda x: pd.to_datetime(x, format='%d/%m/%Y'))"
   ]
  },
  {
   "cell_type": "code",
   "execution_count": 38,
   "metadata": {},
   "outputs": [],
   "source": [
    "casos['se_diag'] = casos['dt_diag'].apply(lambda x: Week.fromdate(x))\n",
    "casos.loc[~casos['is'].isnull(), 'se_is'] = casos['is'].loc[~casos['is'].isnull()].apply(lambda x: Week.fromdate(x))"
   ]
  },
  {
   "cell_type": "code",
   "execution_count": 44,
   "metadata": {},
   "outputs": [],
   "source": [
    "tabela_diag = casos.groupby(['se_diag'])[['nome']].count()\n",
    "# tabela_diag = tabela_diag.drop('nome')"
   ]
  },
  {
   "cell_type": "code",
   "execution_count": 45,
   "metadata": {},
   "outputs": [],
   "source": [
    "tabela_diag['se'] = [ x.week for x in tabela_diag.index.values]\n",
    "tabela_diag = tabela_diag.set_index('se')"
   ]
  },
  {
   "cell_type": "code",
   "execution_count": 46,
   "metadata": {},
   "outputs": [],
   "source": [
    "tabela_is = casos.groupby(['se_is'])[['nome']].count()\n",
    "# tabela_casos = tabela_casos.droplevel(0, axis=1)\n",
    "for row in tabela_is.index.values:\n",
    "    if row.year < 2020:\n",
    "        tabela_is = tabela_is.drop(row)"
   ]
  },
  {
   "cell_type": "code",
   "execution_count": 47,
   "metadata": {},
   "outputs": [],
   "source": [
    "tabela_is['se'] = [ x.week for x in tabela_is.index.values]\n",
    "tabela_is = tabela_is.set_index('se')"
   ]
  },
  {
   "cell_type": "code",
   "execution_count": 11,
   "metadata": {},
   "outputs": [],
   "source": [
    "# total_diag = tabela_diag.sum(0)\n",
    "# tabela_diag = tabela_diag.append(total_diag, ignore_index = True)"
   ]
  },
  {
   "cell_type": "code",
   "execution_count": 12,
   "metadata": {},
   "outputs": [],
   "source": [
    "# total_is = tabela_is.sum(0)\n",
    "# tabela_is = tabela_is.append(total_is, ignore_index = True)"
   ]
  },
  {
   "cell_type": "code",
   "execution_count": 13,
   "metadata": {},
   "outputs": [],
   "source": [
    "# tabela_casos['rs'] = list(range(1, 23)) + ['Totais']\n",
    "# tabela_casos = tabela_casos.set_index('rs')"
   ]
  },
  {
   "cell_type": "code",
   "execution_count": 14,
   "metadata": {},
   "outputs": [],
   "source": [
    "# tabela_obitos['rs'] = list(range(1, 23)) + ['Totais']\n",
    "# tabela_obitos = tabela_obitos.set_index('rs')"
   ]
  },
  {
   "cell_type": "code",
   "execution_count": 52,
   "metadata": {},
   "outputs": [],
   "source": [
    "tabela_diag.to_excel('output/tabela_diag.xlsx', index = False)\n",
    "tabela_is.to_excel('output/tabela_is.xlsx', index = False)"
   ]
  }
 ],
 "metadata": {
  "kernelspec": {
   "display_name": "Python 3",
   "language": "python",
   "name": "python3"
  },
  "language_info": {
   "codemirror_mode": {
    "name": "ipython",
    "version": 3
   },
   "file_extension": ".py",
   "mimetype": "text/x-python",
   "name": "python",
   "nbconvert_exporter": "python",
   "pygments_lexer": "ipython3",
   "version": "3.8.5"
  }
 },
 "nbformat": 4,
 "nbformat_minor": 4
}
